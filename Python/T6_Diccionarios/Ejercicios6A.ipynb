{
 "cells": [
  {
   "cell_type": "markdown",
   "metadata": {},
   "source": [
    "1. Crea un diccionario vacío llamado “mi_diccionario”."
   ]
  },
  {
   "cell_type": "code",
   "execution_count": 2,
   "metadata": {},
   "outputs": [
    {
     "data": {
      "text/plain": [
       "dict"
      ]
     },
     "execution_count": 2,
     "metadata": {},
     "output_type": "execute_result"
    }
   ],
   "source": [
    "miDiccionario = {}\n",
    "\n",
    "type(miDiccionario)"
   ]
  },
  {
   "cell_type": "markdown",
   "metadata": {},
   "source": [
    "2. Agrega un par clave-valor a \"mi_diccionario\" donde la clave sea \"nombre\" y el valor\n",
    "sea tu nombre. "
   ]
  },
  {
   "cell_type": "code",
   "execution_count": 3,
   "metadata": {},
   "outputs": [
    {
     "data": {
      "text/plain": [
       "{'nombre': 'Victor'}"
      ]
     },
     "execution_count": 3,
     "metadata": {},
     "output_type": "execute_result"
    }
   ],
   "source": [
    "miDiccionario['nombre'] = 'Victor'\n",
    "\n",
    "miDiccionario"
   ]
  },
  {
   "cell_type": "markdown",
   "metadata": {},
   "source": [
    "3. Accede e imprime el valor asociado con la clave \"nombre\" en “mi_diccionario\". \n"
   ]
  },
  {
   "cell_type": "code",
   "execution_count": 4,
   "metadata": {},
   "outputs": [
    {
     "data": {
      "text/plain": [
       "'Victor'"
      ]
     },
     "execution_count": 4,
     "metadata": {},
     "output_type": "execute_result"
    }
   ],
   "source": [
    "miDiccionario['nombre']"
   ]
  },
  {
   "cell_type": "markdown",
   "metadata": {},
   "source": [
    "4. Verifica si la clave \"edad\" existe en \"mi_diccionario\". Imprime \"True\" si existe y \"False\"\n",
    "en caso contrario."
   ]
  },
  {
   "cell_type": "code",
   "execution_count": 6,
   "metadata": {},
   "outputs": [
    {
     "name": "stdout",
     "output_type": "stream",
     "text": [
      "False\n",
      "False\n"
     ]
    }
   ],
   "source": [
    "print(miDiccionario.get('edad', False))\n",
    "\n",
    "print(\"edad\" in miDiccionario)"
   ]
  },
  {
   "cell_type": "markdown",
   "metadata": {},
   "source": [
    "5. Crea un diccionario llamado \"estudiante\" con los siguientes pares clave-valor:\n",
    "\"nombre\" con el nombre del alumno, \"edad\" con su edad y \"materia\" con su materia\n",
    "favorita. "
   ]
  },
  {
   "cell_type": "code",
   "execution_count": 7,
   "metadata": {},
   "outputs": [
    {
     "data": {
      "text/plain": [
       "{'nombre': 'Manolo', 'edad': 25, 'materia': 'Mates'}"
      ]
     },
     "execution_count": 7,
     "metadata": {},
     "output_type": "execute_result"
    }
   ],
   "source": [
    "estudiante = {\"nombre\": \"Manolo\",\n",
    "              \"edad\": 25,\n",
    "              \"materia\": \"Mates\",\n",
    "              }\n",
    "\n",
    "estudiante"
   ]
  },
  {
   "cell_type": "markdown",
   "metadata": {},
   "source": [
    "6. Actualiza el valor de la clave \"edad\" en el diccionario \"estudiante\" para reflejar la edad\n",
    "actual de tu amigo."
   ]
  },
  {
   "cell_type": "code",
   "execution_count": 8,
   "metadata": {},
   "outputs": [
    {
     "data": {
      "text/plain": [
       "{'nombre': 'Manolo', 'edad': 26, 'materia': 'Mates'}"
      ]
     },
     "execution_count": 8,
     "metadata": {},
     "output_type": "execute_result"
    }
   ],
   "source": [
    "estudiante['edad'] = 26\n",
    "\n",
    "estudiante"
   ]
  },
  {
   "cell_type": "markdown",
   "metadata": {},
   "source": [
    "7. Elimina el par clave-valor con la clave \"materia\" del diccionario “estudiante\"."
   ]
  },
  {
   "cell_type": "code",
   "execution_count": 10,
   "metadata": {},
   "outputs": [
    {
     "data": {
      "text/plain": [
       "{'nombre': 'Manolo', 'edad': 26}"
      ]
     },
     "execution_count": 10,
     "metadata": {},
     "output_type": "execute_result"
    }
   ],
   "source": [
    "estudiante.pop('materia')\n",
    "\n",
    "estudiante"
   ]
  },
  {
   "cell_type": "markdown",
   "metadata": {},
   "source": [
    "8. Imprime todas las claves en el diccionario “estudiante\"."
   ]
  },
  {
   "cell_type": "code",
   "execution_count": 9,
   "metadata": {},
   "outputs": [
    {
     "data": {
      "text/plain": [
       "dict_keys(['nombre', 'edad', 'materia'])"
      ]
     },
     "execution_count": 9,
     "metadata": {},
     "output_type": "execute_result"
    }
   ],
   "source": [
    "estudiante.keys()"
   ]
  },
  {
   "cell_type": "markdown",
   "metadata": {},
   "source": [
    "\n",
    "9. Crea un diccionario llamado \"agenda\" con tres entradas: \"Juan\" con el valor\n",
    "\"1234567890\", \"Joana\" con el valor \"9876543210\" y \"Jimena\" con el valor\n",
    "“5555555555”."
   ]
  },
  {
   "cell_type": "code",
   "execution_count": 10,
   "metadata": {},
   "outputs": [
    {
     "data": {
      "text/plain": [
       "{'Juan': '1234567890', 'Joana': '9876543210', 'Jimena': '5555555555'}"
      ]
     },
     "execution_count": 10,
     "metadata": {},
     "output_type": "execute_result"
    }
   ],
   "source": [
    "agenda = {'Juan': '1234567890',\n",
    "          'Joana': '9876543210',\n",
    "          'Jimena': '5555555555',\n",
    "          }\n",
    "\n",
    "agenda"
   ]
  },
  {
   "cell_type": "markdown",
   "metadata": {},
   "source": [
    "\n",
    "10. Agrega una nueva entrada al diccionario \"agenda\" con la clave \"Julio\" y el valor\n",
    "“9998887777\"."
   ]
  },
  {
   "cell_type": "code",
   "execution_count": 11,
   "metadata": {},
   "outputs": [
    {
     "data": {
      "text/plain": [
       "{'Juan': '1234567890',\n",
       " 'Joana': '9876543210',\n",
       " 'Jimena': '5555555555',\n",
       " 'Julio': '9998887777'}"
      ]
     },
     "execution_count": 11,
     "metadata": {},
     "output_type": "execute_result"
    }
   ],
   "source": [
    "agenda['Julio'] = '9998887777'\n",
    "agenda"
   ]
  },
  {
   "cell_type": "markdown",
   "metadata": {},
   "source": [
    "\n",
    "11. Imprime el número de entradas (pares clave-valor) en el diccionario “agenda\"."
   ]
  },
  {
   "cell_type": "code",
   "execution_count": 12,
   "metadata": {},
   "outputs": [
    {
     "data": {
      "text/plain": [
       "4"
      ]
     },
     "execution_count": 12,
     "metadata": {},
     "output_type": "execute_result"
    }
   ],
   "source": [
    "len(agenda.items())"
   ]
  },
  {
   "cell_type": "markdown",
   "metadata": {},
   "source": [
    "\n",
    "12. Crea una lista llamada \"claves\" que contenga todas las claves del diccionario\n",
    "“agenda\"."
   ]
  },
  {
   "cell_type": "code",
   "execution_count": 13,
   "metadata": {},
   "outputs": [
    {
     "data": {
      "text/plain": [
       "dict_keys(['Juan', 'Joana', 'Jimena', 'Julio'])"
      ]
     },
     "execution_count": 13,
     "metadata": {},
     "output_type": "execute_result"
    }
   ],
   "source": [
    "claves = agenda.keys()\n",
    "claves"
   ]
  },
  {
   "cell_type": "markdown",
   "metadata": {},
   "source": [
    "\n",
    "13. Verifica si la clave \"Juan\" existe en el diccionario \"agenda\". Imprime \"True\" si existe y\n",
    "\"False\" en caso contrario."
   ]
  },
  {
   "cell_type": "code",
   "execution_count": 14,
   "metadata": {},
   "outputs": [
    {
     "name": "stdout",
     "output_type": "stream",
     "text": [
      "False\n"
     ]
    },
    {
     "data": {
      "text/plain": [
       "False"
      ]
     },
     "execution_count": 14,
     "metadata": {},
     "output_type": "execute_result"
    }
   ],
   "source": [
    "print(miDiccionario.get('Juan', False))\n",
    "'Juan' in miDiccionario"
   ]
  },
  {
   "cell_type": "markdown",
   "metadata": {},
   "source": [
    "\n",
    "14. Elimina la entrada con la clave “Jimena”."
   ]
  },
  {
   "cell_type": "code",
   "execution_count": 15,
   "metadata": {},
   "outputs": [
    {
     "data": {
      "text/plain": [
       "{'Juan': '1234567890', 'Joana': '9876543210', 'Julio': '9998887777'}"
      ]
     },
     "execution_count": 15,
     "metadata": {},
     "output_type": "execute_result"
    }
   ],
   "source": [
    "agenda.pop('Jimena')\n",
    "agenda"
   ]
  },
  {
   "cell_type": "markdown",
   "metadata": {},
   "source": [
    "\n",
    "15. Utiliza un bucle for para iterar sobre todas las claves en el diccionario \"agenda\" e\n",
    "imprime cada par clave-valor en el formato \"Nombre: Número”."
   ]
  },
  {
   "cell_type": "code",
   "execution_count": 16,
   "metadata": {},
   "outputs": [
    {
     "name": "stdout",
     "output_type": "stream",
     "text": [
      "Juan ,  1234567890\n",
      "Joana ,  9876543210\n",
      "Julio ,  9998887777\n"
     ]
    }
   ],
   "source": [
    "for clave in agenda:\n",
    "    print(clave, ', ', agenda[clave])"
   ]
  },
  {
   "cell_type": "markdown",
   "metadata": {},
   "source": [
    "\n",
    "16. Utiliza el método \"get()\" para obtener el valor asociado con la clave \"Juan\" en el\n",
    "diccionario \"agenda\". Si la clave no existe, imprime \"Clave no encontrada”."
   ]
  },
  {
   "cell_type": "code",
   "execution_count": 17,
   "metadata": {},
   "outputs": [
    {
     "data": {
      "text/plain": [
       "'1234567890'"
      ]
     },
     "execution_count": 17,
     "metadata": {},
     "output_type": "execute_result"
    }
   ],
   "source": [
    "agenda.get('Juan', 'Clave no encontrada')"
   ]
  },
  {
   "cell_type": "markdown",
   "metadata": {},
   "source": [
    "\n",
    "17. Borra todas las entradas del diccionario “agenda”."
   ]
  },
  {
   "cell_type": "code",
   "execution_count": 18,
   "metadata": {},
   "outputs": [
    {
     "data": {
      "text/plain": [
       "{}"
      ]
     },
     "execution_count": 18,
     "metadata": {},
     "output_type": "execute_result"
    }
   ],
   "source": [
    "agenda.clear()\n",
    "agenda"
   ]
  },
  {
   "cell_type": "markdown",
   "metadata": {},
   "source": [
    "### LISTAS DE DICCIONARIOS  "
   ]
  },
  {
   "cell_type": "markdown",
   "metadata": {},
   "source": [
    "18. Crea una lista llamada \"estudiantes\" que contenga dos diccionarios. Cada diccionario\n",
    "representa a un estudiante y tiene las claves \"nombre\" y \"edad\" con sus respectivos\n",
    "valores. Recorre la lista e imprime el nombre y edad de cada estudiante."
   ]
  },
  {
   "cell_type": "code",
   "execution_count": 30,
   "metadata": {},
   "outputs": [
    {
     "name": "stdout",
     "output_type": "stream",
     "text": [
      "Estudiante: Juan, Edad: 24\n",
      "Estudiante: Rafa, Edad: 23\n"
     ]
    }
   ],
   "source": [
    "estudiantes = [{'nombre': 'Juan',\n",
    "                'edad': 24,\n",
    "                },\n",
    "               {'nombre': 'Rafa',\n",
    "                'edad': 23,\n",
    "                }]\n",
    "\n",
    "for estudiante in estudiantes:\n",
    "    print(f'Estudiante: {estudiante[\"nombre\"]}, Edad: {estudiante[\"edad\"]}')"
   ]
  },
  {
   "cell_type": "markdown",
   "metadata": {},
   "source": [
    "\n",
    "19. Agrega un nuevo estudiante a la lista \"estudiantes\" utilizando un diccionario con las\n",
    "mismas claves \"nombre\" y \"edad\". Imprime la lista actualizada."
   ]
  },
  {
   "cell_type": "code",
   "execution_count": 31,
   "metadata": {},
   "outputs": [
    {
     "data": {
      "text/plain": [
       "[{'nombre': 'Juan', 'edad': 24},\n",
       " {'nombre': 'Rafa', 'edad': 23},\n",
       " {'nombre': 'Laura', 'edad': 29}]"
      ]
     },
     "execution_count": 31,
     "metadata": {},
     "output_type": "execute_result"
    }
   ],
   "source": [
    "estudiantes.append({'nombre': 'Laura',\n",
    "                    'edad': 29,\n",
    "                    })\n",
    "\n",
    "estudiantes"
   ]
  },
  {
   "cell_type": "markdown",
   "metadata": {},
   "source": [
    "\n",
    "20. Elimina el segundo estudiante de la lista \"estudiantes\". Imprime la lista actualizada."
   ]
  },
  {
   "cell_type": "code",
   "execution_count": 32,
   "metadata": {},
   "outputs": [
    {
     "data": {
      "text/plain": [
       "[{'nombre': 'Juan', 'edad': 24}, {'nombre': 'Laura', 'edad': 29}]"
      ]
     },
     "execution_count": 32,
     "metadata": {},
     "output_type": "execute_result"
    }
   ],
   "source": [
    "del estudiantes[1]\n",
    "\n",
    "estudiantes"
   ]
  },
  {
   "cell_type": "markdown",
   "metadata": {},
   "source": [
    "\n",
    "21. Actualiza la edad del primer estudiante en la lista \"estudiantes\" a un nuevo valor.\n",
    "Imprime la lista actualizada. "
   ]
  },
  {
   "cell_type": "code",
   "execution_count": 33,
   "metadata": {},
   "outputs": [
    {
     "data": {
      "text/plain": [
       "[{'nombre': 'Juan', 'edad': 32}, {'nombre': 'Laura', 'edad': 29}]"
      ]
     },
     "execution_count": 33,
     "metadata": {},
     "output_type": "execute_result"
    }
   ],
   "source": [
    "estudiantes[0]['edad'] = 32\n",
    "\n",
    "estudiantes"
   ]
  },
  {
   "cell_type": "markdown",
   "metadata": {},
   "source": [
    "### ANIDAMIENTO DE DICCIONARIOS"
   ]
  },
  {
   "cell_type": "markdown",
   "metadata": {},
   "source": [
    "22. Crea un diccionario llamado \"productos\" que contenga dos entradas. Cada entrada\n",
    "representa un producto y tiene a su vez las claves \"nombre\" y \"precio\" con sus\n",
    "respectivos valores. Recorre el diccionario e imprime el nombre y precio de cada\n",
    "producto."
   ]
  },
  {
   "cell_type": "code",
   "execution_count": 35,
   "metadata": {},
   "outputs": [
    {
     "name": "stdout",
     "output_type": "stream",
     "text": [
      "Producto: Laptop, Precio: 1200€\n",
      "Producto: Teléfono, Precio: 500€\n"
     ]
    }
   ],
   "source": [
    "productos = {\n",
    "    \"producto1\": {\"nombre\": \"Laptop\", \"precio\": 1200},\n",
    "    \"producto2\": {\"nombre\": \"Teléfono\", \"precio\": 500}\n",
    "}\n",
    "\n",
    "for clave, producto in productos.items():\n",
    "    nombre = producto[\"nombre\"]\n",
    "    precio = producto[\"precio\"]\n",
    "    print(f\"Producto: {nombre}, Precio: {precio}€\")\n"
   ]
  },
  {
   "cell_type": "markdown",
   "metadata": {},
   "source": [
    "\n",
    "23. Agrega un nuevo producto al diccionario \"productos\" utilizando una nueva clave y\n",
    "valor. Imprime el diccionario actualizado."
   ]
  },
  {
   "cell_type": "code",
   "execution_count": 37,
   "metadata": {},
   "outputs": [
    {
     "name": "stdout",
     "output_type": "stream",
     "text": [
      "Producto: Laptop, Precio: 1200€\n",
      "Producto: Teléfono, Precio: 500€\n",
      "Producto: Tablet, Precio: 300€\n"
     ]
    }
   ],
   "source": [
    "productos['producto3'] = {\"nombre\": \"Tablet\", \"precio\": 300}\n",
    "\n",
    "for clave, producto in productos.items():\n",
    "    nombre = producto[\"nombre\"]\n",
    "    precio = producto[\"precio\"]\n",
    "    print(f\"Producto: {nombre}, Precio: {precio}€\")"
   ]
  },
  {
   "cell_type": "markdown",
   "metadata": {},
   "source": [
    "\n",
    "24. Crea un diccionario llamado \"equipos\" que contenga tres entradas. Cada entrada\n",
    "representa un equipo deportivo y tiene las claves \"nombre\" y \"jugadores\" con sus\n",
    "respectivos valores. Los valores de \"jugadores\" deben ser listas con los nombres de\n",
    "los jugadores. Recorre el diccionario e imprime el nombre del equipo y la lista de\n",
    "jugadores."
   ]
  },
  {
   "cell_type": "code",
   "execution_count": 20,
   "metadata": {},
   "outputs": [
    {
     "name": "stdout",
     "output_type": "stream",
     "text": [
      "Equipo: Equipo A, Jugadores: ['Jugador1A', 'Jugador2A', 'Jugador3A']\n",
      "Equipo: Equipo B, Jugadores: ['Jugador1B', 'Jugador2B', 'Jugador3B']\n",
      "Equipo: Equipo C, Jugadores: ['Jugador1C', 'Jugador2C', 'Jugador3C']\n"
     ]
    }
   ],
   "source": [
    "# Crear el diccionario de equipos\n",
    "equipos = {\n",
    "    \"equipo1\": {\"nombre\": \"Equipo A\", \"jugadores\": [\"Jugador1A\", \"Jugador2A\", \"Jugador3A\"]},\n",
    "    \"equipo2\": {\"nombre\": \"Equipo B\", \"jugadores\": [\"Jugador1B\", \"Jugador2B\", \"Jugador3B\"]},\n",
    "    \"equipo3\": {\"nombre\": \"Equipo C\", \"jugadores\": [\"Jugador1C\", \"Jugador2C\", \"Jugador3C\"]}\n",
    "}\n",
    "\n",
    "# Recorrer el diccionario e imprimir nombre del equipo y lista de jugadores\n",
    "for clave, equipo in equipos.items():\n",
    "    nombre_equipo = equipo[\"nombre\"]\n",
    "    jugadores = equipo[\"jugadores\"]\n",
    "    print(f\"Equipo: {nombre_equipo}, Jugadores: {jugadores}\")\n"
   ]
  },
  {
   "cell_type": "markdown",
   "metadata": {},
   "source": [
    "25. Agrega un nuevo equipo al diccionario \"equipos\" utilizando una nueva clave y valor.\n",
    "La lista de jugadores debe contener al menos tres nombres. Imprime el diccionario\n",
    "actualizado."
   ]
  },
  {
   "cell_type": "code",
   "execution_count": 21,
   "metadata": {},
   "outputs": [
    {
     "name": "stdout",
     "output_type": "stream",
     "text": [
      "Equipo: Equipo A, Jugadores: ['Jugador1A', 'Jugador2A', 'Jugador3A']\n",
      "Equipo: Equipo B, Jugadores: ['Jugador1B', 'Jugador2B', 'Jugador3B']\n",
      "Equipo: Equipo C, Jugadores: ['Jugador1C', 'Jugador2C', 'Jugador3C']\n",
      "Equipo: Nuevo Equipo, Jugadores: ['Jugador1Nuevo', 'Jugador2Nuevo', 'Jugador3Nuevo']\n"
     ]
    }
   ],
   "source": [
    "# Agregar un nuevo equipo al diccionario\n",
    "nuevo_equipo = {\"nombre\": \"Nuevo Equipo\", \"jugadores\": [\"Jugador1Nuevo\", \"Jugador2Nuevo\", \"Jugador3Nuevo\"]}\n",
    "equipos[\"equipo4\"] = nuevo_equipo\n",
    "\n",
    "# Imprimir el diccionario actualizado\n",
    "for clave, equipo in equipos.items():\n",
    "    nombre_equipo = equipo[\"nombre\"]\n",
    "    jugadores = equipo[\"jugadores\"]\n",
    "    print(f\"Equipo: {nombre_equipo}, Jugadores: {jugadores}\")\n"
   ]
  },
  {
   "cell_type": "markdown",
   "metadata": {},
   "source": [
    "26. Actualiza la lista de jugadores de uno de los equipos existentes en el diccionario\n",
    "\"equipos\". Agrega un nuevo jugador a la lista. Imprime el diccionario actualizado."
   ]
  },
  {
   "cell_type": "code",
   "execution_count": 22,
   "metadata": {},
   "outputs": [
    {
     "name": "stdout",
     "output_type": "stream",
     "text": [
      "Equipo: Equipo A, Jugadores: ['Jugador1A', 'Jugador2A', 'Jugador3A', 'NuevoJugador']\n",
      "Equipo: Equipo B, Jugadores: ['Jugador1B', 'Jugador2B', 'Jugador3B']\n",
      "Equipo: Equipo C, Jugadores: ['Jugador1C', 'Jugador2C', 'Jugador3C']\n",
      "Equipo: Nuevo Equipo, Jugadores: ['Jugador1Nuevo', 'Jugador2Nuevo', 'Jugador3Nuevo']\n"
     ]
    }
   ],
   "source": [
    "equipo_existente = \"equipo1\" \n",
    "nuevo_jugador = \"NuevoJugador\"\n",
    "\n",
    "equipos[equipo_existente][\"jugadores\"].append(nuevo_jugador)\n",
    "\n",
    "for clave, equipo in equipos.items():\n",
    "    nombre_equipo = equipo[\"nombre\"]\n",
    "    jugadores = equipo[\"jugadores\"]\n",
    "    print(f\"Equipo: {nombre_equipo}, Jugadores: {jugadores}\")\n"
   ]
  },
  {
   "cell_type": "code",
   "execution_count": null,
   "metadata": {},
   "outputs": [],
   "source": []
  }
 ],
 "metadata": {
  "kernelspec": {
   "display_name": "work",
   "language": "python",
   "name": "python3"
  },
  "language_info": {
   "codemirror_mode": {
    "name": "ipython",
    "version": 3
   },
   "file_extension": ".py",
   "mimetype": "text/x-python",
   "name": "python",
   "nbconvert_exporter": "python",
   "pygments_lexer": "ipython3",
   "version": "3.11.4"
  }
 },
 "nbformat": 4,
 "nbformat_minor": 2
}
