{
 "cells": [
  {
   "cell_type": "markdown",
   "metadata": {},
   "source": [
    "Tienes una tienda y deseas realizar un seguimiento de las ventas diarias\n",
    "de tus productos. Cada producto tiene un nombre y una cantidad\n",
    "vendida. Implementa un programa en Python que utilice un diccionario\n",
    "para almacenar la información de las ventas. El programa debe permitir\n",
    "registrar las ventas de productos, actualizar la cantidad vendida de un\n",
    "producto existente y calcular el total de ventas diarias"
   ]
  },
  {
   "cell_type": "code",
   "execution_count": 11,
   "metadata": {},
   "outputs": [],
   "source": [
    "productos = {}"
   ]
  },
  {
   "cell_type": "code",
   "execution_count": 25,
   "metadata": {},
   "outputs": [
    {
     "name": "stdout",
     "output_type": "stream",
     "text": [
      "dict_keys(['Lenovo', 'Kindle Scribe', 'serg'])\n",
      "Eliminado\n",
      "opción no encontrada\n",
      "{'Lenovo': {'nombre': 'Ordenador', 'cantidad': 3}, 'Kindle Scribe': {'nombre': 'E-Reader', 'cantidad': 5}}\n",
      "{'nombre': 'Ordenador', 'cantidad': 4}\n"
     ]
    }
   ],
   "source": [
    "i = True\n",
    " \n",
    "while i == True:\n",
    "\n",
    "    opcion = input('''\n",
    "¿Qué opción quieres? \\n\n",
    "    1. Registrar un nuevo producto\n",
    "    2. Añadir nuevas ventas\n",
    "    3. Calcular total de ventas diarias\n",
    "    4. Eliminar producto\n",
    "                   ''')\n",
    "    \n",
    "    match opcion:\n",
    "        case \"1\": \n",
    "            nuevoIdentificador = input(\"Indica el identificador de tu producto\")\n",
    "            categoria = input(\"Indica la categoría del producto nuevo\")\n",
    "\n",
    "            productos[nuevoIdentificador] = {'nombre': categoria, 'cantidad': 0}\n",
    "\n",
    "\n",
    "            print(productos[nuevoIdentificador])\n",
    "        case \"2\":\n",
    "            Identificador = input(\"¿Qué identificador tiene tu producto?\")\n",
    "            numero = int(input(\"¿Cuantos productos has vendido?\"))\n",
    "\n",
    "            productos[Identificador]['cantidad'] += numero\n",
    "            print(productos[Identificador])\n",
    "        case \"3\": \n",
    "            Identificador = input(\"¿Qué identificador tiene tu producto?\")\n",
    "            numero = int(input(\"¿Cuantos productos has vendido?\"))\n",
    "\n",
    "            productos[Identificador]['cantidad'] = numero\n",
    "            print(productos[Identificador])\n",
    "        \n",
    "        case \"4\":\n",
    "            print(productos.keys())\n",
    "            Identificador = input(\"¿Qué producto quieres eliminar?\")\n",
    "            productos.pop(Identificador)\n",
    "            print('Eliminado')\n",
    "        case _:\n",
    "            print(\"opción no encontrada\")\n",
    "            print(productos)\n",
    "            continue\n",
    "\n",
    "    i = bool(input(\"¿Quieres continuar? No: 0 o Enter; Si: Cualquier otra cosa\"))"
   ]
  },
  {
   "cell_type": "markdown",
   "metadata": {},
   "source": [
    "Eres un gerente de proyectos y necesitas un programa para administrar\n",
    "las tareas y responsabilidades de tu equipo. Cada tarea tiene un nombre,\n",
    "una descripción y un responsable asignado. Implementa un programa en\n",
    "Python que utilice un diccionario para almacenar la información de las\n",
    "tareas. El programa debe permitir agregar nuevas tareas, asignar\n",
    "responsables a las tareas existentes, actualizar las descripciones de las\n",
    "tareas y mostrar la lista completa de tareas y responsables. "
   ]
  },
  {
   "cell_type": "code",
   "execution_count": 32,
   "metadata": {},
   "outputs": [
    {
     "name": "stdout",
     "output_type": "stream",
     "text": [
      "Manuel\n",
      "Elena\n"
     ]
    },
    {
     "data": {
      "text/plain": [
       "{'Tarea1': {'responsable': 'Elena', 'descripcion': 'Realizar mantenimiento'},\n",
       " 'Tarea2': {'responsable': 'Juan', 'descripcion': 'Cambiar aceite'},\n",
       " 'Tarea3': {'responsable': 'Rocío', 'descripcion': 'Cambio de ruedas'}}"
      ]
     },
     "execution_count": 32,
     "metadata": {},
     "output_type": "execute_result"
    }
   ],
   "source": [
    "tareas = {}\n",
    "\n",
    "tareas['Tarea1'] = {'responsable': 'Manuel', 'descripcion': 'Realizar mantenimiento'}\n",
    "tareas['Tarea2'] = {'responsable': 'Juan', 'descripcion': 'Cambiar aceite'}\n",
    "tareas['Tarea3'] = {'responsable': 'Rocío', 'descripcion': 'Cambio de ruedas'}\n",
    "\n",
    "#Actualizar responsable Tareas\n",
    "print(tareas['Tarea1']['responsable'])\n",
    "tareas['Tarea1']['responsable'] = 'Elena'\n",
    "print(tareas['Tarea1']['responsable'])\n",
    "\n",
    "#Actualizar descripciones Tareas\n",
    "print(tareas['Tarea1']['descripcion'])\n",
    "tareas['Tarea1']['descripcion'] = 'Comprobar que las válvulas están bién.'\n",
    "print(tareas['Tarea1']['descripcion'])\n",
    "\n",
    "\n",
    "tareas"
   ]
  },
  {
   "cell_type": "markdown",
   "metadata": {},
   "source": [
    "Eres un profesor y deseas realizar un seguimiento de la asistencia de tus\n",
    "estudiantes a lo largo del semestre. Cada estudiante tiene un nombre y\n",
    "una lista de fechas en las que asistió a clases. Implementa un programa\n",
    "en Python que utilice un diccionario para almacenar la información de las\n",
    "asistencias. El programa debe permitir registrar la asistencia de los\n",
    "estudiantes, agregar nuevas fechas de asistencia y mostrar la lista de\n",
    "estudiantes y las fechas en las que asistieron."
   ]
  },
  {
   "cell_type": "code",
   "execution_count": 36,
   "metadata": {},
   "outputs": [
    {
     "data": {
      "text/plain": [
       "{'Estudiante1': ['21-01-2024', '23-01-2024', '24-01-2024', '27-01-2024'],\n",
       " 'Estudiante2': ['21-01-2024', '25-01-2024'],\n",
       " 'Estudiante3': ['23-01-2024', '24-01-2024', '25-01-2024', '26-01-2024']}"
      ]
     },
     "execution_count": 36,
     "metadata": {},
     "output_type": "execute_result"
    }
   ],
   "source": [
    "asistencias = {}\n",
    "\n",
    "#Registerar asistencias\n",
    "\n",
    "asistencias['Estudiante1'] = ['21-01-2024', '23-01-2024', '24-01-2024']\n",
    "asistencias['Estudiante2'] = ['21-01-2024', '25-01-2024']\n",
    "asistencias['Estudiante3'] = ['23-01-2024', '24-01-2024', '25-01-2024', '26-01-2024']\n",
    "\n",
    "#Agregar nuevas fechas\n",
    "\n",
    "asistencias['Estudiante1'].append('27-01-2024')\n",
    "\n",
    "\n",
    "asistencias\n",
    "# Esto no funciona: [print(f'El estudiante {estudiante}, acudió en las fechas {fechas}') for estudiante, fechas in asistencias]"
   ]
  },
  {
   "cell_type": "markdown",
   "metadata": {},
   "source": [
    "Implementa un programa en Python que permita registrar y mantener un\n",
    "seguimiento de los puntajes de un juego. El programa debe permitir a los\n",
    "jugadores ingresar sus nombres y puntajes, almacenarlos en un\n",
    "diccionario y proporcionar funcionalidades para mostrar el puntaje más\n",
    "alto, el promedio de puntajes y la cantidad total de jugadores."
   ]
  },
  {
   "cell_type": "code",
   "execution_count": 52,
   "metadata": {},
   "outputs": [],
   "source": [
    "jugadores = {}"
   ]
  },
  {
   "cell_type": "code",
   "execution_count": 51,
   "metadata": {},
   "outputs": [
    {
     "data": {
      "text/plain": [
       "False"
      ]
     },
     "execution_count": 51,
     "metadata": {},
     "output_type": "execute_result"
    }
   ],
   "source": [
    "while "
   ]
  },
  {
   "cell_type": "code",
   "execution_count": 61,
   "metadata": {},
   "outputs": [],
   "source": [
    "continuar = True\n",
    "\n",
    "while continuar:\n",
    "    nombre = input('¿Quién eres?').replace(\" \", \"\")\n",
    "    puntos = int(input('¿Cuantos puntos has conseguido?'))\n",
    "\n",
    "    if not jugadores.get(nombre):\n",
    "        jugadores[nombre] = puntos\n",
    "    else:\n",
    "        jugadores[nombre] += puntos\n",
    "\n",
    "    continuar = bool(input('Pulsa enter para salir. Cualquier otra tecla para continar.'))"
   ]
  },
  {
   "cell_type": "code",
   "execution_count": 62,
   "metadata": {},
   "outputs": [
    {
     "data": {
      "text/plain": [
       "{'Víctor': 12, 'R': 10}"
      ]
     },
     "execution_count": 62,
     "metadata": {},
     "output_type": "execute_result"
    }
   ],
   "source": [
    "jugadores"
   ]
  },
  {
   "cell_type": "code",
   "execution_count": 78,
   "metadata": {},
   "outputs": [
    {
     "name": "stdout",
     "output_type": "stream",
     "text": [
      "El jugador con más puntos es: Víctor\n",
      "El promedio de puntos es: 11.0\n"
     ]
    }
   ],
   "source": [
    "print(f\"El jugador con más puntos es: {max(jugadores, key = jugadores.get)}\")\n",
    "print(f\"El promedio de puntos es: {sum(jugadores.values())/len(jugadores)}\")"
   ]
  }
 ],
 "metadata": {
  "kernelspec": {
   "display_name": "work",
   "language": "python",
   "name": "python3"
  },
  "language_info": {
   "codemirror_mode": {
    "name": "ipython",
    "version": 3
   },
   "file_extension": ".py",
   "mimetype": "text/x-python",
   "name": "python",
   "nbconvert_exporter": "python",
   "pygments_lexer": "ipython3",
   "version": "3.11.4"
  }
 },
 "nbformat": 4,
 "nbformat_minor": 2
}
