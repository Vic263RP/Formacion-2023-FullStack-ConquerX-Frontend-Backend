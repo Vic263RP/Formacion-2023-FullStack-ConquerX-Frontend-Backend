{
 "cells": [
  {
   "cell_type": "markdown",
   "metadata": {},
   "source": [
    "#### 1. Crea una tupla con tres elementos y imprime por pantalla cada uno de ellos en una nueva linea."
   ]
  },
  {
   "cell_type": "code",
   "execution_count": 2,
   "metadata": {},
   "outputs": [
    {
     "name": "stdout",
     "output_type": "stream",
     "text": [
      "1\n",
      "2\n",
      "3\n"
     ]
    }
   ],
   "source": [
    "tupla1 = (1,2,3)\n",
    "\n",
    "for elemento in tupla1:\n",
    "    print(elemento)"
   ]
  },
  {
   "cell_type": "markdown",
   "metadata": {},
   "source": [
    "#### 2. Crea una lista con tres elementos e intenta modificarla. Haz lo mismo con la tupla. ¿Cuáles son las diferencias?"
   ]
  },
  {
   "cell_type": "code",
   "execution_count": 2,
   "metadata": {},
   "outputs": [
    {
     "name": "stdout",
     "output_type": "stream",
     "text": [
      "[2, 2, 3]\n"
     ]
    }
   ],
   "source": [
    "lista1 = [1,2,3]\n",
    "lista1[0] += 1\n",
    "\n",
    "print(lista1)"
   ]
  },
  {
   "cell_type": "code",
   "execution_count": 4,
   "metadata": {},
   "outputs": [
    {
     "ename": "TypeError",
     "evalue": "'tuple' object does not support item assignment",
     "output_type": "error",
     "traceback": [
      "\u001b[0;31m---------------------------------------------------------------------------\u001b[0m",
      "\u001b[0;31mTypeError\u001b[0m                                 Traceback (most recent call last)",
      "Cell \u001b[0;32mIn[4], line 1\u001b[0m\n\u001b[0;32m----> 1\u001b[0m \u001b[43mtupla1\u001b[49m\u001b[43m[\u001b[49m\u001b[38;5;241;43m0\u001b[39;49m\u001b[43m]\u001b[49m \u001b[38;5;241m+\u001b[39m\u001b[38;5;241m=\u001b[39m \u001b[38;5;241m1\u001b[39m\n\u001b[1;32m      3\u001b[0m \u001b[38;5;28mprint\u001b[39m(tupla1)\n",
      "\u001b[0;31mTypeError\u001b[0m: 'tuple' object does not support item assignment"
     ]
    }
   ],
   "source": [
    "tupla1[0] += 1\n",
    "\n",
    "print(tupla1)"
   ]
  },
  {
   "cell_type": "markdown",
   "metadata": {},
   "source": [
    "#### 3. Crea una tupla de enteros y devuelve la suma de los elementos."
   ]
  },
  {
   "cell_type": "code",
   "execution_count": 3,
   "metadata": {},
   "outputs": [
    {
     "data": {
      "text/plain": [
       "6"
      ]
     },
     "execution_count": 3,
     "metadata": {},
     "output_type": "execute_result"
    }
   ],
   "source": [
    "suma = sum(tupla1)\n",
    "\n",
    "suma"
   ]
  },
  {
   "cell_type": "markdown",
   "metadata": {},
   "source": [
    "#### 4 Crea un script que dada una tupla que contiene strings cree una nueva tupla con el primer caracter de cada string."
   ]
  },
  {
   "cell_type": "code",
   "execution_count": 10,
   "metadata": {},
   "outputs": [
    {
     "data": {
      "text/plain": [
       "('H', 'M', 'P', 'T', 'E')"
      ]
     },
     "execution_count": 10,
     "metadata": {},
     "output_type": "execute_result"
    }
   ],
   "source": [
    "tupla5 = (\"Hola\", \"Mundo\", \"Python\", \"Tupla\", \"Ejemplo\")\n",
    "\n",
    "tuplaIniciales = tuple(palabra[0] for palabra in tupla5)\n",
    "\n",
    "tuplaIniciales"
   ]
  },
  {
   "cell_type": "markdown",
   "metadata": {},
   "source": [
    "#### 5. Crea un script que dada una tupla de números devuelva el producto de todos los números pares."
   ]
  },
  {
   "cell_type": "code",
   "execution_count": 38,
   "metadata": {},
   "outputs": [
    {
     "data": {
      "text/plain": [
       "645120"
      ]
     },
     "execution_count": 38,
     "metadata": {},
     "output_type": "execute_result"
    }
   ],
   "source": [
    "import numpy as np\n",
    "tupla6 = (1, 2, 3, 4, 5, 6, 7, 8, 9, 10, 11, 12, 13, 14, 15)\n",
    "\n",
    "tuplaPares = tuple(numero for numero in tupla6 if numero % 2 == 0)\n",
    "np.array(tuplaPares).prod()"
   ]
  },
  {
   "cell_type": "code",
   "execution_count": 18,
   "metadata": {},
   "outputs": [
    {
     "data": {
      "text/plain": [
       "[2, 4, 6, 8, 10, 12, 14]"
      ]
     },
     "execution_count": 18,
     "metadata": {},
     "output_type": "execute_result"
    }
   ],
   "source": [
    "#Las mascaras booleanas solo se pueden usar en arrays\n",
    "import numpy as np\n",
    "\n",
    "array = np.array([1, 2, 3, 4, 5, 6, 7, 8, 9, 10, 11, 12, 13, 14, 15])\n",
    "\n",
    "tuplaPares2 = [array > 2]\n",
    "\n",
    "tuplaPares"
   ]
  },
  {
   "cell_type": "markdown",
   "metadata": {},
   "source": [
    "#### 6. Crea un script que dada una tupla de números, devuelva la tupla con los numeros ordeandos en orden descendente."
   ]
  },
  {
   "cell_type": "code",
   "execution_count": 96,
   "metadata": {},
   "outputs": [
    {
     "data": {
      "text/plain": [
       "(15, 14, 13, 12, 11, 10, 9, 8, 7, 6, 5, 4, 3, 2, 1)"
      ]
     },
     "execution_count": 96,
     "metadata": {},
     "output_type": "execute_result"
    }
   ],
   "source": [
    "tupla7 = (1, 2, 8, 4, 3, 6, 7, 5, 9, 10, 11, 12, 13, 14, 15)\n",
    "\n",
    "tupla7Descendente = tuple(sorted(tupla6, reverse=True))\n",
    "tupla7Descendente \n"
   ]
  },
  {
   "cell_type": "markdown",
   "metadata": {},
   "source": [
    "#### 7. Crea un script que dada una tupla con números enteros repetidos, elimine los duplicados. (Puedes usar sets)."
   ]
  },
  {
   "cell_type": "code",
   "execution_count": 22,
   "metadata": {},
   "outputs": [
    {
     "data": {
      "text/plain": [
       "(2, 3, 5, 7, 8)"
      ]
     },
     "execution_count": 22,
     "metadata": {},
     "output_type": "execute_result"
    }
   ],
   "source": [
    "tupla7A = (3, 5, 2, 3, 7, 5, 2, 8, 3, 5)\n",
    "\n",
    "tupla7ADiferentes = tuple(set(tupla7A))\n",
    "tupla7ADiferentes"
   ]
  },
  {
   "cell_type": "markdown",
   "metadata": {},
   "source": [
    "#### 8. Crea un script que dada una tupla y un numero entero, devuelve verdadero si el numero se encuentra en la tupla y falso en el caso contrario."
   ]
  },
  {
   "cell_type": "code",
   "execution_count": 41,
   "metadata": {},
   "outputs": [
    {
     "name": "stdout",
     "output_type": "stream",
     "text": [
      "Falso\n",
      "(15, 58, 3, 99, 22, 85, 83, 97, 48, 17, 65, 85, 55, 27, 59, 37, 93, 3, 93, 32, 26, 14, 39, 10, 83, 78, 88, 94, 70, 21)\n",
      "19\n"
     ]
    }
   ],
   "source": [
    "tuplaRandom = tuple(np.random.randint(1, 100, size=30))\n",
    "numRandom = int(np.random.randint(1, 100))\n",
    "\n",
    "if numRandom in tuplaRandom:\n",
    "    print('Verdadero')\n",
    "else:\n",
    "    print('Falso')\n",
    "    \n",
    "print(tuplaRandom)\n",
    "print(numRandom)"
   ]
  },
  {
   "cell_type": "code",
   "execution_count": 45,
   "metadata": {},
   "outputs": [
    {
     "name": "stdout",
     "output_type": "stream",
     "text": [
      "(94, 31, 60, 37, 25, 64, 95, 4, 76, 72, 9, 10, 15, 74, 50, 59, 68, 88, 69, 78, 56, 79, 80, 60, 46, 86, 40, 61, 55, 49)\n",
      "80\n",
      "True\n"
     ]
    }
   ],
   "source": [
    "tuplaRandom = tuple(np.random.randint(1, 100, size=30))\n",
    "numRandom = int(np.random.randint(1, 100))\n",
    "\n",
    "resultado = numRandom in tuplaRandom\n",
    "\n",
    "print(tuplaRandom)\n",
    "print(numRandom)\n",
    "print(resultado)"
   ]
  },
  {
   "cell_type": "markdown",
   "metadata": {},
   "source": [
    "#### 9. Crea un script que dadas dos tuplas cree una tupla resultante de la union de ambas."
   ]
  },
  {
   "cell_type": "code",
   "execution_count": 50,
   "metadata": {},
   "outputs": [
    {
     "name": "stdout",
     "output_type": "stream",
     "text": [
      "tupla9A: (3, 7, 6, 3, 9)\n",
      "tupla9B: (7, 5, 9, 7, 9)\n",
      "(3, 7, 6, 3, 9, 7, 5, 9, 7, 9)\n"
     ]
    }
   ],
   "source": [
    "import random\n",
    "\n",
    "tupla9A = tuple(np.random.randint(1, 10, size=5))\n",
    "tupla9B = tuple(np.random.randint(1, 10, size=5))\n",
    "\n",
    "print(\"tupla9A:\", tupla9A)\n",
    "print(\"tupla9B:\", tupla9B)\n",
    "print(tupla9A + tupla9B)"
   ]
  },
  {
   "cell_type": "markdown",
   "metadata": {},
   "source": [
    "#### 10. Crea un script que dada una tupla de números devuelva e máximo y el mínimo."
   ]
  },
  {
   "cell_type": "code",
   "execution_count": 51,
   "metadata": {},
   "outputs": [
    {
     "name": "stdout",
     "output_type": "stream",
     "text": [
      "9 3\n"
     ]
    }
   ],
   "source": [
    "print(max(tupla9A), min(tupla9A))"
   ]
  },
  {
   "cell_type": "markdown",
   "metadata": {},
   "source": [
    "#### 11. Crea un script que dada una tupla con strings devuelva el string más largo y el más corto. (Prueba añadiendo key=len a las funciones max y min)"
   ]
  },
  {
   "cell_type": "code",
   "execution_count": 52,
   "metadata": {},
   "outputs": [
    {
     "name": "stdout",
     "output_type": "stream",
     "text": [
      "Ejemplo Hola\n"
     ]
    }
   ],
   "source": [
    "print(max(tupla5, key = len), min(tupla5, key = len))"
   ]
  },
  {
   "cell_type": "markdown",
   "metadata": {},
   "source": [
    "#### 12. Crea un script que dada una tupla devuelva el contenido en orden revertido."
   ]
  },
  {
   "cell_type": "code",
   "execution_count": 98,
   "metadata": {},
   "outputs": [
    {
     "data": {
      "text/plain": [
       "(15, 14, 13, 12, 11, 10, 9, 5, 7, 6, 3, 4, 8, 2, 1)"
      ]
     },
     "execution_count": 98,
     "metadata": {},
     "output_type": "execute_result"
    }
   ],
   "source": [
    "tupla12 = (1, 2, 8, 4, 3, 6, 7, 5, 9, 10, 11, 12, 13, 14, 15)\n",
    "\n",
    "tupla12Descendente = tupla12[::-1]\n",
    "tupla12Descendente "
   ]
  },
  {
   "cell_type": "markdown",
   "metadata": {},
   "source": [
    "#### 13. Crea un script que dada una tupla de tuplas, donde cada tupla interna contiene dos elementos, devuelva una nueva tupla en la que cada elemento sea la suma de los dos elementos de la tupla interna correspondiente."
   ]
  },
  {
   "cell_type": "code",
   "execution_count": 53,
   "metadata": {},
   "outputs": [
    {
     "data": {
      "text/plain": [
       "(3, 7, 11)"
      ]
     },
     "execution_count": 53,
     "metadata": {},
     "output_type": "execute_result"
    }
   ],
   "source": [
    "tuplaTuplas = ((1, 2), (3, 4), (5, 6))\n",
    "\n",
    "resultados = tuple( sum(tupla) for tupla in tuplaTuplas)\n",
    "\n",
    "resultados"
   ]
  },
  {
   "cell_type": "markdown",
   "metadata": {},
   "source": [
    "#### 14.Crea un set y elimina uno de sus elementos."
   ]
  },
  {
   "cell_type": "code",
   "execution_count": 55,
   "metadata": {},
   "outputs": [
    {
     "name": "stdout",
     "output_type": "stream",
     "text": [
      "{1, 2, 3, (4, 5), 'hola'}\n"
     ]
    },
    {
     "data": {
      "text/plain": [
       "{(4, 5), 1, 2, 3}"
      ]
     },
     "execution_count": 55,
     "metadata": {},
     "output_type": "execute_result"
    }
   ],
   "source": [
    "mi_set = {1, 2, 3, \"hola\", (4, 5)}\n",
    "print(mi_set)\n",
    "mi_set.discard(\"hola\")\n",
    "\n",
    "mi_set\n"
   ]
  },
  {
   "cell_type": "markdown",
   "metadata": {},
   "source": [
    "#### 15.Crea un set vacío."
   ]
  },
  {
   "cell_type": "code",
   "execution_count": 99,
   "metadata": {},
   "outputs": [
    {
     "data": {
      "text/plain": [
       "set"
      ]
     },
     "execution_count": 99,
     "metadata": {},
     "output_type": "execute_result"
    }
   ],
   "source": [
    "setVacio = set()\n",
    "\n",
    "type(setVacio)"
   ]
  },
  {
   "cell_type": "markdown",
   "metadata": {},
   "source": [
    "#### 16.Crea dos sets y encuentra su union, su intersección y su diferencia."
   ]
  },
  {
   "cell_type": "code",
   "execution_count": 60,
   "metadata": {},
   "outputs": [
    {
     "name": "stdout",
     "output_type": "stream",
     "text": [
      " Unión: {1, 2, 3, 4, 5, 6, 7} \n",
      " Intersección: {3, 4, 5} \n",
      " Diferencia: {1, 2}\n"
     ]
    }
   ],
   "source": [
    "set1 = {1, 2, 3, 4, 5}\n",
    "set2 = {3, 4, 5, 6, 7}\n",
    "\n",
    "print(f' Unión: {set1.union(set2)} \\n Intersección: {set1.intersection(set2)} \\n Diferencia: {set1.difference(set2)}')\n"
   ]
  },
  {
   "cell_type": "markdown",
   "metadata": {},
   "source": [
    "#### 17.Crea un script que dados dos sets cree uno nuevo que contenga solo los elementos comunes de ambos."
   ]
  },
  {
   "cell_type": "code",
   "execution_count": 61,
   "metadata": {},
   "outputs": [
    {
     "data": {
      "text/plain": [
       "{3, 4, 5}"
      ]
     },
     "execution_count": 61,
     "metadata": {},
     "output_type": "execute_result"
    }
   ],
   "source": [
    "setInterseccion = set1.intersection(set2)\n",
    "setInterseccion"
   ]
  },
  {
   "cell_type": "markdown",
   "metadata": {},
   "source": [
    "#### 18.Crea un script que dado un set con números devuelva el numero máximo y mínimo."
   ]
  },
  {
   "cell_type": "code",
   "execution_count": 69,
   "metadata": {},
   "outputs": [
    {
     "name": "stdout",
     "output_type": "stream",
     "text": [
      "[8 6 6 7 4 6 6 4 7 7 8 7]\n",
      "8 4\n"
     ]
    },
    {
     "data": {
      "text/plain": [
       "{4, 6, 7, 8}"
      ]
     },
     "execution_count": 69,
     "metadata": {},
     "output_type": "execute_result"
    }
   ],
   "source": [
    "a = np.random.randint(4, 10, size=12)\n",
    "print(a)\n",
    "\n",
    "set18 = set(a)\n",
    "print(max(set18), min(set18))\n",
    "set18"
   ]
  },
  {
   "cell_type": "markdown",
   "metadata": {},
   "source": [
    "#### 19.Crea un script que dados dos sets cree uno nuevo solo con los elementos únicos de cada uno de los sets."
   ]
  },
  {
   "cell_type": "code",
   "execution_count": 72,
   "metadata": {},
   "outputs": [
    {
     "name": "stdout",
     "output_type": "stream",
     "text": [
      "{8, 9, 5, 7} {2, 3, 5} Diferencia simétrica:  {2, 3, 7, 8, 9}\n"
     ]
    }
   ],
   "source": [
    "set19A = set(np.random.randint(3, 10, size=4))\n",
    "set19B = set(np.random.randint(1, 6, size=4))\n",
    "\n",
    "print(set19A, set19B, \"Diferencia simétrica: \", set19A.symmetric_difference(set19B))"
   ]
  },
  {
   "cell_type": "markdown",
   "metadata": {},
   "source": [
    "#### 20.Crea un set con colores y comprueba si cierto color se encuentra en el set."
   ]
  },
  {
   "cell_type": "code",
   "execution_count": 73,
   "metadata": {},
   "outputs": [
    {
     "name": "stdout",
     "output_type": "stream",
     "text": [
      "rojo: True\n",
      "negro: False\n"
     ]
    }
   ],
   "source": [
    "colores = {\"rojo\", \"verde\", \"azul\", \"amarillo\", \"naranja\", \"morado\"}\n",
    "\n",
    "print(\"rojo:\", \"rojo\" in colores)\n",
    "print(\"negro:\", \"negro\" in colores)"
   ]
  },
  {
   "cell_type": "markdown",
   "metadata": {},
   "source": [
    "#### 21.Crea un script que dados dos sets cree un nuevo set con los elementos que están en el primer set pero no en el segundo."
   ]
  },
  {
   "cell_type": "code",
   "execution_count": 74,
   "metadata": {},
   "outputs": [
    {
     "name": "stdout",
     "output_type": "stream",
     "text": [
      "{8, 9, 4, 6} {1, 3, 4, 5} Diferencia:  {8, 9, 6}\n"
     ]
    }
   ],
   "source": [
    "set19A = set(np.random.randint(3, 10, size=4))\n",
    "set19B = set(np.random.randint(1, 6, size=4))\n",
    "\n",
    "print(set19A, set19B, \"Diferencia: \", set19A.difference(set19B))"
   ]
  },
  {
   "cell_type": "markdown",
   "metadata": {},
   "source": [
    "#### 22.Crea un script que dado un set de enteros devuelva el producto de todos los números dentro del set."
   ]
  },
  {
   "cell_type": "code",
   "execution_count": 94,
   "metadata": {},
   "outputs": [
    {
     "name": "stdout",
     "output_type": "stream",
     "text": [
      "{3, 4, 5}\n"
     ]
    },
    {
     "data": {
      "text/plain": [
       "60"
      ]
     },
     "execution_count": 94,
     "metadata": {},
     "output_type": "execute_result"
    }
   ],
   "source": [
    "import numpy as np\n",
    "\n",
    "set22 = set(np.random.randint(1, 6, size=3))\n",
    "print(set22)\n",
    "\n",
    "producto = 1\n",
    "\n",
    "for numero in set22:\n",
    "    producto *= numero\n",
    "\n",
    "producto\n",
    "\n"
   ]
  }
 ],
 "metadata": {
  "kernelspec": {
   "display_name": "work",
   "language": "python",
   "name": "python3"
  },
  "language_info": {
   "codemirror_mode": {
    "name": "ipython",
    "version": 3
   },
   "file_extension": ".py",
   "mimetype": "text/x-python",
   "name": "python",
   "nbconvert_exporter": "python",
   "pygments_lexer": "ipython3",
   "version": "3.11.4"
  }
 },
 "nbformat": 4,
 "nbformat_minor": 2
}
