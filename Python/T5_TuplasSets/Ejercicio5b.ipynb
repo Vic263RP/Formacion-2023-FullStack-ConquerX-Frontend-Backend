{
 "cells": [
  {
   "cell_type": "markdown",
   "metadata": {},
   "source": [
    "Una red social tiene una base de datos de usuarios y sus correspondientes amistades.\n",
    "Crea un programa que tome una base de datos de una red social como una lista de\n",
    "tuplas, donde cada tupla contiene el nombre del usuario y una lista de sus amigos. Los\n",
    "nombres repetidos en la lista de amigos corresponden a usuarios con varias cuentas\n",
    "diferentes. Deberas eliminar las cuentas duplicadas y después devolver una tupla de\n",
    "tuplas que contiene el número real de amigos por usuario y el usuario con más amigos."
   ]
  },
  {
   "cell_type": "code",
   "execution_count": 3,
   "metadata": {},
   "outputs": [
    {
     "name": "stdout",
     "output_type": "stream",
     "text": [
      "[('Juan', ['Luis', 'Maria', 'Pedro']), ('Maria', ['Juan', 'Pedro']), ('Pedro', ['Maria', 'Juan']), ('Luis', ['Juan'])] \n",
      " [('Juan', 3), ('Maria', 2), ('Pedro', 2), ('Luis', 1)]\n"
     ]
    }
   ],
   "source": [
    "red_social = [(\"Juan\", [\"Maria\", \"Pedro\", \"Luis\"]),\n",
    "              (\"Maria\", [\"Juan\", \"Pedro\",\"Juan\"]),\n",
    "              (\"Pedro\", [\"Juan\", \"Maria\"]),\n",
    "              (\"Luis\", [\"Juan\"])]\n",
    "\n",
    "rrssSinDuplicados = []\n",
    "nAmigos = []\n",
    "for usuario, amigos in red_social:\n",
    "    amigos = list(set(amigos))\n",
    "    rrssSinDuplicados.append((usuario,amigos))\n",
    "    nAmiogs = nAmigos.append((usuario, len(amigos)))\n",
    "\n",
    "print(rrssSinDuplicados, \"\\n\", nAmigos)\n",
    "\n"
   ]
  },
  {
   "cell_type": "markdown",
   "metadata": {},
   "source": [
    "Una biblioteca tiene una lista de libros y sus autores. Crea un programa que tome la lista\n",
    "de libros y sus autores como una lista de tuplas, donde cada tupla contiene el título del\n",
    "libro y el nombre del autor, y devuelva una nueva lista de tuplas que contenga el título del\n",
    "libro y el apellido del autor."
   ]
  },
  {
   "cell_type": "code",
   "execution_count": 10,
   "metadata": {},
   "outputs": [
    {
     "data": {
      "text/plain": [
       "[('El aleph', 'Luis'),\n",
       " ('Cien años de soledad', 'Garcia'),\n",
       " ('La ciudad y los perros', 'Vargas')]"
      ]
     },
     "execution_count": 10,
     "metadata": {},
     "output_type": "execute_result"
    }
   ],
   "source": [
    "lista_libros = [('El aleph', 'Jorge Luis Borges'),\n",
    "                ('Cien años de soledad', 'Garbriel Garcia Márquez'),\n",
    "                ('La ciudad y los perros', 'Mario Vargas Llosa')]\n",
    "\n",
    "listaNueva = []\n",
    "for libro, autor in lista_libros:\n",
    "    nombre, apellido1, apellido2 = autor.split()\n",
    "\n",
    "    listaNueva.append((libro, apellido1))\n",
    "\n",
    "listaNueva"
   ]
  },
  {
   "cell_type": "markdown",
   "metadata": {},
   "source": [
    "Una compañía tiene dos bases de datos de clientes. La primera base de datos contiene\n",
    "el nombre del cliente, la dirección de correo electrónico y el número de teléfono. La\n",
    "segunda base de datos contiene el nombre del cliente, la dirección y el historial de\n",
    "pedidos. Escribe un programa que tome las dos bases de datos como listas de tuplas y\n",
    "devuelva una nueva lista de tuplas que contenga solo los clientes que aparecen en\n",
    "ambas bases de datos. Los clientes se consideran iguales si tienen el mismo nombre"
   ]
  },
  {
   "cell_type": "code",
   "execution_count": 13,
   "metadata": {},
   "outputs": [
    {
     "data": {
      "text/plain": [
       "{'Juan', 'Maria'}"
      ]
     },
     "execution_count": 13,
     "metadata": {},
     "output_type": "execute_result"
    }
   ],
   "source": [
    "base_datos1 = [(\"Juan\", \"juan@example.com\", \"555-1234\"),\n",
    "               (\"Maria\", \"maria@example.com\", \"555-5678\"),\n",
    "               (\"Pedro\", \"pedro@example.com\", \"555-9012\")]\n",
    "\n",
    "\n",
    "base_datos2 = [(\"Juan\", \"Calle 123\", [\"Libro1\", \"Libro2\"]),\n",
    "               (\"Maria\", \"Calle 456\", [\"Libro3\"]),\n",
    "               (\"Luis\", \"Calle 789\", [\"Libro4\"])]\n",
    "\n",
    "clientes1 = [cliente[0] for cliente in base_datos1]\n",
    "clientes2 = [cliente[0] for cliente in base_datos2]\n",
    "\n",
    "comunes = set(clientes1).intersection(set(clientes2))\n",
    "\n",
    "comunes\n"
   ]
  }
 ],
 "metadata": {
  "kernelspec": {
   "display_name": "work",
   "language": "python",
   "name": "python3"
  },
  "language_info": {
   "codemirror_mode": {
    "name": "ipython",
    "version": 3
   },
   "file_extension": ".py",
   "mimetype": "text/x-python",
   "name": "python",
   "nbconvert_exporter": "python",
   "pygments_lexer": "ipython3",
   "version": "3.11.4"
  }
 },
 "nbformat": 4,
 "nbformat_minor": 2
}
