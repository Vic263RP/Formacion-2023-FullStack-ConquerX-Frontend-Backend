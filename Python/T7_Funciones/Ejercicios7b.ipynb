{
 "cells": [
  {
   "cell_type": "markdown",
   "metadata": {},
   "source": [
    "#### VALIDACIÓN DE FORMULARIO\n",
    "Crea un programa que valide un formulario de registro. Crea una función\n",
    "llamada validar_formulario que reciba diferentes campos de un formulario\n",
    "(nombre, correo electrónico y número de teléfono) y verifique si los valores\n",
    "ingresados cumplen con los requisitos especificados, siendo estos:\n",
    "1. Que el nombre tenga una longitud minima de 3 caracteres\n",
    "2. Que el teléfono este conformado por dígitos y tenga una longitud de 9\n",
    "caracteres\n",
    "3. Que el email contenga un “@“ y un “.”"
   ]
  },
  {
   "cell_type": "code",
   "execution_count": 46,
   "metadata": {},
   "outputs": [
    {
     "name": "stdout",
     "output_type": "stream",
     "text": [
      "El número de telébono debe tener 9 dígitos\n"
     ]
    }
   ],
   "source": [
    "#Solución mía\n",
    "\n",
    "def validar_formulario(nombre, correo, numero):\n",
    "    if len(nombre) < 3:\n",
    "        return print('El nombre debe tener como mínimo tres caracteres')\n",
    "    \n",
    "    try:\n",
    "        int(numero)\n",
    "    except:\n",
    "        return print('El número de teléfono debe ser un número')\n",
    "    else:\n",
    "        if len(str(numero)) != 9:\n",
    "            return print('El número de telébono debe tener 9 dígitos')\n",
    "    \n",
    "    caracteres_correo = [caracter for caracter in correo if (caracter == '@' or caracter == '.')]\n",
    "\n",
    "    #if '@' not in correo or not '.' in correo:\n",
    "    #Había probado esto pero me he equivocado de orden. Creía que me lo había inventado pero sí que existe, aunque tiene que ser or '.' not in...\n",
    "    #Creo que sería más correcto un:\n",
    "        #if: '@' in correo and '.' in correo: return True \n",
    "        #else : retur False\n",
    "    #Así vemos que tiene que incluir ambos, no solo uno de los dos.\n",
    "    \n",
    "    if caracteres_correo != ['@', '.']:\n",
    "        return print('El correo debe contener un punto y un @')\n",
    "    \n",
    "    return print('Formulario correcto')\n",
    "\n",
    "validar_formulario('Victor', 'victor@gmail.com','12345679')"
   ]
  },
  {
   "cell_type": "code",
   "execution_count": 51,
   "metadata": {},
   "outputs": [
    {
     "name": "stdout",
     "output_type": "stream",
     "text": [
      "Formulario correcto\n"
     ]
    }
   ],
   "source": [
    "#Solución clase\n",
    "def validar_formulario_clase(name, mail, phone):\n",
    "    if len(name) < 3:\n",
    "        return False\n",
    "    if '@' not in mail or '.' not in mail:\n",
    "        return False\n",
    "    if len(phone) != 9 or not phone.isdigit():\n",
    "        return False\n",
    "    else:\n",
    "        return True\n",
    "\n",
    "valido = validar_formulario_clase('Victor', 'victor@gmail.com','123456789')\n",
    "\n",
    "if valido:\n",
    "    print('Formulario correcto')\n",
    "else:\n",
    "    print('Formulario incorrecto')"
   ]
  },
  {
   "cell_type": "markdown",
   "metadata": {},
   "source": [
    "#### CONTRASENA SEGURA\n",
    "Crea un script que solicite una contraseña, analice si es segura y si no lo es\n",
    "sugiera una nueva contraseña. Para ello puedes crear un script validador.py\n",
    "que contenga una funcion validar_contrasena que reciba una cadena y\n",
    "verifique si cumple con los requisitos mínimos de una contraseña segura\n",
    "(por ejemplo, longitud mínima, presencia de letras mayúsculas, letras\n",
    "minúsculas, números y caracteres especiales). La función debe devolver un\n",
    "valor booleano que indique si la contraseña es válida o no. Por otro lado\n",
    "puedes crear otro script creador.py con una función llamada\n",
    "generar_contrasena que genere contraseñas seguras de forma aleatoria. La\n",
    "función debe permitir especificar la longitud de la contraseña y qué tipos de\n",
    "caracteres deben incluirse (por ejemplo, letras mayúsculas, letras\n",
    "minúsculas, números y caracteres especiales).\n",
    "(Para el generador de contraseñas puedes probar a usar los modulos\n",
    "random y string)"
   ]
  },
  {
   "cell_type": "code",
   "execution_count": 72,
   "metadata": {},
   "outputs": [
    {
     "name": "stdout",
     "output_type": "stream",
     "text": [
      "La contraseña no era correcta\n",
      "La contraseña no era correcta\n",
      "La contraseña no era correcta\n",
      "La contraseña no era correcta\n",
      "Contraseña OK: 1234SAdf! Contraseña OK: o5=yONHPC-X5 Contraseña OK: `Nml9V&>kCCO Contraseña OK: $tl!}D&-5x4l Contraseña OK: 8734653hsdfgheDTHSrtdh***\n"
     ]
    }
   ],
   "source": [
    "''' \n",
    "Defino contraseña segura como:\n",
    "- len(contraseña) > 6\n",
    "- contiene una mayúscula\n",
    "- Contiene una minúscula\n",
    "- Contiene un número\n",
    "- Contiene un símbolo\n",
    "'''\n",
    "import random\n",
    "import string\n",
    "\n",
    "def probar(contrasena):\n",
    "\n",
    "    if validador(contrasena):\n",
    "        return 'Contraseña OK: ' + contrasena\n",
    "    else:\n",
    "        contrasena = generar_contrasena()\n",
    "        print('La contraseña no era correcta')\n",
    "        return probar(contrasena)\n",
    "\n",
    "\n",
    "def validador(contrasena):\n",
    "    longitud_minima = 6\n",
    "    mayus_OK = False\n",
    "    minus_OK = False\n",
    "    num_OK = False\n",
    "    simb_OK = False\n",
    "\n",
    "    if len(contrasena) < longitud_minima:\n",
    "        return False\n",
    "\n",
    "    for caracter in contrasena:\n",
    "        if caracter.isupper():\n",
    "            mayus_OK = True\n",
    "        elif caracter.islower():\n",
    "            minus_OK = True\n",
    "        elif caracter.isdigit():\n",
    "            num_OK = True\n",
    "        else:\n",
    "            simb_OK = True\n",
    "    \n",
    "    return mayus_OK and minus_OK and num_OK and simb_OK\n",
    "\n",
    "\n",
    "def generar_contrasena():\n",
    "\n",
    "    longitud = 12\n",
    "    caracteres = \"\"\n",
    "\n",
    "    caracteres += string.ascii_lowercase\n",
    "    caracteres += string.digits\n",
    "    caracteres += string.punctuation\n",
    "    caracteres += string.ascii_uppercase\n",
    "\n",
    "    contrasena = \"\".join(random.choice(caracteres) for i in range(longitud))\n",
    "    \n",
    "    return contrasena\n",
    "\n",
    "\n",
    "\n",
    "#Contraseña correcta\n",
    "p1 = probar('1234SAdf!')\n",
    "p2 = probar ('123456789')\n",
    "p3 = probar('qwertyuio')\n",
    "p4 = probar ('1aS!')\n",
    "p5 = probar ('8734653hsdfgheDTHSrtdh***')\n",
    "\n",
    "print(p1, p2, p3, p4, p5)"
   ]
  },
  {
   "cell_type": "code",
   "execution_count": null,
   "metadata": {},
   "outputs": [],
   "source": []
  }
 ],
 "metadata": {
  "kernelspec": {
   "display_name": "work",
   "language": "python",
   "name": "python3"
  },
  "language_info": {
   "codemirror_mode": {
    "name": "ipython",
    "version": 3
   },
   "file_extension": ".py",
   "mimetype": "text/x-python",
   "name": "python",
   "nbconvert_exporter": "python",
   "pygments_lexer": "ipython3",
   "version": "3.11.4"
  }
 },
 "nbformat": 4,
 "nbformat_minor": 2
}
