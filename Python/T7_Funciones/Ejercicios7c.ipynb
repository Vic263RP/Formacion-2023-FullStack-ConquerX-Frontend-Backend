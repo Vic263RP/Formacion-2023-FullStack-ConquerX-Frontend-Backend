{
 "cells": [
  {
   "cell_type": "markdown",
   "metadata": {},
   "source": [
    "#### FACTORIAL\n",
    "\n",
    "Implementa una función recursiva llamada factorial que calcule el factorial de\n",
    "un número entero positivo. El factorial de un número n se define como el\n",
    "producto de todos los números enteros positivos desde 1 hasta n.\n"
   ]
  },
  {
   "cell_type": "code",
   "execution_count": 7,
   "metadata": {},
   "outputs": [
    {
     "data": {
      "text/plain": [
       "24"
      ]
     },
     "execution_count": 7,
     "metadata": {},
     "output_type": "execute_result"
    }
   ],
   "source": [
    "def factorial(num):\n",
    "    if num < 2:\n",
    "        return 1\n",
    "    else:\n",
    "        return num * factorial(num-1)\n",
    "        \n",
    "\n",
    "\n",
    "factorial(4)"
   ]
  },
  {
   "cell_type": "markdown",
   "metadata": {},
   "source": [
    "#### POTENCIA\n",
    "Implementa una función recursiva llamada potencia que calcule el resultado\n",
    "de elevar un número a una potencia dada. Puedes asumir que tanto el\n",
    "número como la potencia son enteros no negativos."
   ]
  },
  {
   "cell_type": "code",
   "execution_count": 10,
   "metadata": {},
   "outputs": [
    {
     "data": {
      "text/plain": [
       "512"
      ]
     },
     "execution_count": 10,
     "metadata": {},
     "output_type": "execute_result"
    }
   ],
   "source": [
    "def potencia(base, exponente=2):\n",
    "    if exponente == 0:\n",
    "        return 1\n",
    "    else:\n",
    "        return base * potencia(base, exponente-1)\n",
    "\n",
    "potencia(8,3)"
   ]
  },
  {
   "cell_type": "markdown",
   "metadata": {},
   "source": [
    "#### SUMA ELEMENTOS DE UNA LISTA\n",
    "Crea una función recursiva llamada suma_lista que calcule la suma de todos\n",
    "los elementos de una lista de enteros. Puedes asumir que la lista no está\n",
    "vacía."
   ]
  },
  {
   "cell_type": "code",
   "execution_count": 18,
   "metadata": {},
   "outputs": [
    {
     "data": {
      "text/plain": [
       "45"
      ]
     },
     "execution_count": 18,
     "metadata": {},
     "output_type": "execute_result"
    }
   ],
   "source": [
    "def suma_lista(lista):\n",
    "    if len(lista) == 1:\n",
    "        return lista[0]\n",
    "    else:\n",
    "        ultimo_num = lista.pop()\n",
    "        penutimo_num = lista.pop()\n",
    "\n",
    "        lista.append(ultimo_num+penutimo_num)\n",
    "        return suma_lista(lista)\n",
    "\n",
    "suma_lista([1,2,3,4,5,6,7,8,9])"
   ]
  },
  {
   "cell_type": "code",
   "execution_count": 29,
   "metadata": {},
   "outputs": [
    {
     "data": {
      "text/plain": [
       "45"
      ]
     },
     "execution_count": 29,
     "metadata": {},
     "output_type": "execute_result"
    }
   ],
   "source": [
    "def suma_lista(lista):\n",
    "    if len(lista) == 1:\n",
    "        return lista[0]\n",
    "    else:\n",
    "\n",
    "        return lista[0] + suma_lista(lista[1:])\n",
    "\n",
    "suma_lista([1,2,3,4,5,6,7,8,9])"
   ]
  },
  {
   "cell_type": "code",
   "execution_count": 16,
   "metadata": {},
   "outputs": [
    {
     "data": {
      "text/plain": [
       "45"
      ]
     },
     "execution_count": 16,
     "metadata": {},
     "output_type": "execute_result"
    }
   ],
   "source": [
    "lista = [1,2,3,4,5,6,7,8,9]\n",
    "\n",
    "sum(lista)"
   ]
  },
  {
   "cell_type": "markdown",
   "metadata": {},
   "source": [
    "#### NUMERO TRIANGULAR\n",
    "Crea una función recursiva llamada numero_triangular que calcule el n-ésimo\n",
    "número triangular. Un número triangular se obtiene al sumar todos los\n",
    "números naturales desde 1 hasta n."
   ]
  },
  {
   "cell_type": "code",
   "execution_count": 21,
   "metadata": {},
   "outputs": [
    {
     "data": {
      "text/plain": [
       "78"
      ]
     },
     "execution_count": 21,
     "metadata": {},
     "output_type": "execute_result"
    }
   ],
   "source": [
    "def numero_triangular(num):\n",
    "    if num == 1:\n",
    "        return 1\n",
    "    else:\n",
    "        return num + numero_triangular(num-1)\n",
    "        \n",
    "\n",
    "\n",
    "numero_triangular(12)"
   ]
  },
  {
   "cell_type": "code",
   "execution_count": 28,
   "metadata": {},
   "outputs": [
    {
     "data": {
      "text/plain": [
       "78"
      ]
     },
     "execution_count": 28,
     "metadata": {},
     "output_type": "execute_result"
    }
   ],
   "source": [
    "sum(range(13))"
   ]
  }
 ],
 "metadata": {
  "kernelspec": {
   "display_name": "work",
   "language": "python",
   "name": "python3"
  },
  "language_info": {
   "codemirror_mode": {
    "name": "ipython",
    "version": 3
   },
   "file_extension": ".py",
   "mimetype": "text/x-python",
   "name": "python",
   "nbconvert_exporter": "python",
   "pygments_lexer": "ipython3",
   "version": "3.11.4"
  }
 },
 "nbformat": 4,
 "nbformat_minor": 2
}
