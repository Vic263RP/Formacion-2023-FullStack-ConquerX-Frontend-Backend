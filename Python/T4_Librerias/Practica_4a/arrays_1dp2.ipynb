{
 "cells": [
  {
   "cell_type": "code",
   "execution_count": 25,
   "metadata": {},
   "outputs": [],
   "source": [
    "import numpy as np\n",
    "\n",
    "aleatorio = np.random.randint(1, 101, 15)"
   ]
  },
  {
   "cell_type": "code",
   "execution_count": 26,
   "metadata": {},
   "outputs": [
    {
     "name": "stdout",
     "output_type": "stream",
     "text": [
      "[66 84 20 66 40 12 71 72 18 58 95 38 83 18 85]\n"
     ]
    }
   ],
   "source": [
    "print (aleatorio)"
   ]
  },
  {
   "cell_type": "code",
   "execution_count": 27,
   "metadata": {},
   "outputs": [
    {
     "name": "stdout",
     "output_type": "stream",
     "text": [
      "-7536243274479304704\n",
      "-7536243274479304704\n"
     ]
    },
    {
     "name": "stderr",
     "output_type": "stream",
     "text": [
      "/tmp/ipykernel_15790/3348590469.py:4: RuntimeWarning: overflow encountered in scalar multiply\n",
      "  mult_bucle = mult_bucle * i\n"
     ]
    }
   ],
   "source": [
    "mult_bucle = 1\n",
    "\n",
    "for i in aleatorio:\n",
    "    mult_bucle = mult_bucle * i\n",
    "mult_np = np.prod(aleatorio)\n",
    "\n",
    "print(mult_bucle)\n",
    "print(mult_np)"
   ]
  },
  {
   "cell_type": "code",
   "execution_count": 33,
   "metadata": {},
   "outputs": [
    {
     "name": "stdout",
     "output_type": "stream",
     "text": [
      "[0.84505705 0.53767228 0.77066219 0.38937993 0.71831335 0.00132651\n",
      " 0.23179695 0.86125447 0.9707326  0.86022412 0.92088089 0.84461317\n",
      " 0.78860445 0.93113048 0.64175208]\n"
     ]
    }
   ],
   "source": [
    "aleatorio_float = np.random.rand(15)\n",
    "\n",
    "print(aleatorio_float)"
   ]
  },
  {
   "cell_type": "code",
   "execution_count": 29,
   "metadata": {},
   "outputs": [
    {
     "name": "stdout",
     "output_type": "stream",
     "text": [
      "[66.7488141  84.78753186 20.64712622 66.55369264 40.49663517 12.12636544\n",
      " 71.33894124 72.85327801 18.00008399 58.96824154 95.41004428 38.33293513\n",
      " 83.12239049 18.1288539  85.65153595]\n",
      "[66.7488141  84.78753186 20.64712622 66.55369264 40.49663517 12.12636544\n",
      " 71.33894124 72.85327801 18.00008399 58.96824154 95.41004428 38.33293513\n",
      " 83.12239049 18.1288539  85.65153595]\n"
     ]
    }
   ],
   "source": [
    "suma = aleatorio_float + aleatorio\n",
    "\n",
    "suma_np = np.add(aleatorio, aleatorio_float)\n",
    "\n",
    "print(suma)\n",
    "print(suma_np)"
   ]
  },
  {
   "cell_type": "code",
   "execution_count": 30,
   "metadata": {},
   "outputs": [
    {
     "name": "stdout",
     "output_type": "stream",
     "text": [
      "[65.2511859  83.21246814 19.35287378 65.44630736 39.50336483 11.87363456\n",
      " 70.66105876 71.14672199 17.99991601 57.03175846 94.58995572 37.66706487\n",
      " 82.87760951 17.8711461  84.34846405]\n",
      "[65.2511859  83.21246814 19.35287378 65.44630736 39.50336483 11.87363456\n",
      " 70.66105876 71.14672199 17.99991601 57.03175846 94.58995572 37.66706487\n",
      " 82.87760951 17.8711461  84.34846405]\n"
     ]
    }
   ],
   "source": [
    "resta = aleatorio - aleatorio_float\n",
    "\n",
    "resta_np = np.subtract(aleatorio, aleatorio_float)\n",
    "\n",
    "print(resta)\n",
    "print(resta_np)"
   ]
  },
  {
   "cell_type": "code",
   "execution_count": 31,
   "metadata": {},
   "outputs": [
    {
     "name": "stdout",
     "output_type": "stream",
     "text": [
      "95, 12, 55.06666666666667, 66.0, 27.382394993052664\n"
     ]
    }
   ],
   "source": [
    "maximo = np.max(aleatorio)\n",
    "minimo = np.min(aleatorio)\n",
    "media = np.mean(aleatorio)\n",
    "mediana = np.median(aleatorio)\n",
    "desv_est = np.std(aleatorio)\n",
    "\n",
    "\n",
    "\n",
    "print(f\"{maximo}, {minimo}, {media}, {mediana}, {desv_est}\")"
   ]
  }
 ],
 "metadata": {
  "kernelspec": {
   "display_name": "work",
   "language": "python",
   "name": "python3"
  },
  "language_info": {
   "codemirror_mode": {
    "name": "ipython",
    "version": 3
   },
   "file_extension": ".py",
   "mimetype": "text/x-python",
   "name": "python",
   "nbconvert_exporter": "python",
   "pygments_lexer": "ipython3",
   "version": "3.11.4"
  },
  "orig_nbformat": 4
 },
 "nbformat": 4,
 "nbformat_minor": 2
}
