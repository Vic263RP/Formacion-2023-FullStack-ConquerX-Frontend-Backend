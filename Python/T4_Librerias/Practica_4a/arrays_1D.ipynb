{
 "cells": [
  {
   "cell_type": "code",
   "execution_count": null,
   "metadata": {},
   "outputs": [],
   "source": [
    "import numpy as np\n"
   ]
  },
  {
   "attachments": {},
   "cell_type": "markdown",
   "metadata": {},
   "source": [
    "para ver la version del paquete:\n",
    "conda search numpy --info "
   ]
  },
  {
   "attachments": {},
   "cell_type": "markdown",
   "metadata": {},
   "source": [
    "1- Crear un array de dimension 8 con 8 ceros:"
   ]
  },
  {
   "cell_type": "code",
   "execution_count": null,
   "metadata": {},
   "outputs": [],
   "source": [
    "import numpy as np\n",
    "array_vacio=np.zeros((1,8)) #tambien valdria np.zeros(8)\n",
    "print(array_vacio)"
   ]
  },
  {
   "attachments": {},
   "cell_type": "markdown",
   "metadata": {},
   "source": [
    "2. Haz que todos los elementos de este array sean igual a 2 \n",
    "Se puede reasignar con: \n",
    "array_vacio[array_vacio == 0] = 2 , sustituye los elementos que valen 0 de cualquier valor del array.\n",
    "array_vacío[x:,y:] = 2 , sustituye todos los valores desde la fila x y desde la columna y."
   ]
  },
  {
   "cell_type": "code",
   "execution_count": null,
   "metadata": {},
   "outputs": [],
   "source": [
    "import numpy as np\n",
    "array_vacio=np.zeros((1,8))\n",
    "#array_vacio[array_vacio ==0]=2 -> Funciona\n",
    "array_vacio[0:]=2 #tambien funciona\n",
    "print(array_vacio)"
   ]
  },
  {
   "attachments": {},
   "cell_type": "markdown",
   "metadata": {},
   "source": [
    "3.Crea un array_2 que contenga todos los números pares del 1 al 10.\n"
   ]
  },
  {
   "cell_type": "code",
   "execution_count": null,
   "metadata": {},
   "outputs": [],
   "source": [
    "import numpy as np\n",
    "array_pares =np.arange(2,11,2)\n",
    "print(array_pares)\n",
    "print(type(array_pares))"
   ]
  },
  {
   "attachments": {},
   "cell_type": "markdown",
   "metadata": {},
   "source": [
    "4.Suma todos los elementos del array_2 usando un bucle y después usando un método\n",
    "de numpy. Compara los resultados"
   ]
  },
  {
   "cell_type": "code",
   "execution_count": null,
   "metadata": {},
   "outputs": [],
   "source": [
    "import numpy as np\n",
    "array_pares =np.arange(2,11,2)\n",
    "suma=0\n",
    "for i in array_pares:\n",
    "    suma+=i\n",
    "print(suma)\n",
    "suma_array=array_pares.sum()\n",
    "print(suma_array)"
   ]
  },
  {
   "attachments": {},
   "cell_type": "markdown",
   "metadata": {},
   "source": [
    "5. Revierte array_2 y guárdalo en una variable independiente. "
   ]
  },
  {
   "cell_type": "code",
   "execution_count": 1,
   "metadata": {},
   "outputs": [
    {
     "name": "stdout",
     "output_type": "stream",
     "text": [
      "[0 1 2 3 4]\n",
      "[ 2  4  6  8 10]\n",
      "[10  8  6  4  2]\n"
     ]
    }
   ],
   "source": [
    "import numpy as np\n",
    "array_pares =np.arange(2,11,2)\n",
    "array_invertido=np.arange(5)\n",
    "\n",
    "print(array_invertido)\n",
    "#El [:] crea una copia, pero necesitas inicializarlo o bien con np.arrange(misma dimension que el que quieres copiar, en este caso manualmente).\n",
    "#De forma generica se hace\n",
    "#array_invertido=np.empty_like(array_pares, dtype=int)-> dtype opcional\n",
    "array_invertido[:]= array_pares[::-1]\n",
    "print(array_pares)\n",
    "print(array_invertido)\n"
   ]
  },
  {
   "attachments": {},
   "cell_type": "markdown",
   "metadata": {},
   "source": [
    "6. Encuentra los elementos comunes entre array_1 y array_2 y entre array_2 y\n",
    "array_2_revertido\n",
    " (Pista: Investiga el uso de intersect1d() de numpy)"
   ]
  },
  {
   "cell_type": "code",
   "execution_count": null,
   "metadata": {},
   "outputs": [],
   "source": [
    "import numpy as np\n",
    "array_vacio=np.zeros((1,8))\n",
    "array_vacio[0:]=2 \n",
    "array_pares =np.arange(2,11,2)\n",
    "#El [:] crea una copia.\n",
    "array_invertido[:]= array_pares[::-1]\n",
    "interseccion_1= np.intersect1d(array_vacio,array_pares)\n",
    "print(interseccion_1)"
   ]
  },
  {
   "attachments": {},
   "cell_type": "markdown",
   "metadata": {},
   "source": [
    "7. Crea un arrays lleno de 1s con una longitud dada por el usuario"
   ]
  },
  {
   "cell_type": "code",
   "execution_count": null,
   "metadata": {},
   "outputs": [],
   "source": [
    "import numpy as np\n",
    "x = int(input('De que longitud quieres crear tu matriz de 1s?'))\n",
    "array_unos = np.ones((x))\n",
    "print(array_unos)"
   ]
  },
  {
   "attachments": {},
   "cell_type": "markdown",
   "metadata": {},
   "source": [
    "Parte 2"
   ]
  },
  {
   "attachments": {},
   "cell_type": "markdown",
   "metadata": {},
   "source": [
    "1. Crea un array con 15 números enteros aleatorios entre 1 y 100"
   ]
  },
  {
   "cell_type": "code",
   "execution_count": null,
   "metadata": {},
   "outputs": [],
   "source": [
    "import numpy as np\n",
    "array_aleatorio = np.random.randint(1,101, size=15)\n",
    "print(array_aleatorio)"
   ]
  },
  {
   "attachments": {},
   "cell_type": "markdown",
   "metadata": {},
   "source": [
    "2. Multiplica todos los elementos del array usando un bucle y después usando un\n",
    "método de numpy. Compara los resultados"
   ]
  },
  {
   "cell_type": "code",
   "execution_count": null,
   "metadata": {},
   "outputs": [],
   "source": [
    "import numpy as np\n",
    "array_aleatorio = np.random.randint(1,101, size=15)\n",
    "multi = 1\n",
    "for i in array_aleatorio:\n",
    "    multi*= i\n",
    "multi_array = array_aleatorio.prod()\n",
    "print(multi, multi_array)\n",
    "print(array_aleatorio)\n",
    "#Da un error de que excede el limite de memoria : /var/folders/vj/kdbk1dbx3jb0m3cypnqd4sjc0000gp/T/ipykernel_42257/1832981948.py:5: RuntimeWarning: overflow encountered in long_scalars\n",
    "  #multi*= i"
   ]
  },
  {
   "attachments": {},
   "cell_type": "markdown",
   "metadata": {},
   "source": [
    "3. Crea otro array con 15 números decimales aleatorios entre 0 y 1"
   ]
  },
  {
   "cell_type": "code",
   "execution_count": null,
   "metadata": {},
   "outputs": [],
   "source": [
    "import numpy as np\n",
    "array_aleatorio_2 = np.random.random(15)\n",
    "print(array_aleatorio_2)"
   ]
  },
  {
   "attachments": {},
   "cell_type": "markdown",
   "metadata": {},
   "source": [
    "4. Suma los elementos de ambos arrays elementos por elemento. Resuélvelo usando un\n",
    "operador y después con una función de numpy\n",
    " (Pista: busca en google que función de numpy hace esto)"
   ]
  },
  {
   "cell_type": "code",
   "execution_count": null,
   "metadata": {},
   "outputs": [],
   "source": [
    "import numpy as np\n",
    "array_aleatorio = np.random.randint(1,101, size=15)\n",
    "array_aleatorio_2 = np.random.random(15)\n",
    "print(array_aleatorio)\n",
    "print(array_aleatorio_2)\n",
    "suma_op= array_aleatorio + array_aleatorio_2\n",
    "print(suma_op) \n",
    "#funcion numpy\n",
    "suma_numpy = np.add(array_aleatorio,array_aleatorio_2)\n",
    "print(suma_numpy)"
   ]
  },
  {
   "attachments": {},
   "cell_type": "markdown",
   "metadata": {},
   "source": [
    "5. Ahora réstalos. Resuélvelo usando un operador y después con una función de numpy\n",
    "(Pista: busca en google que función de numpy hace esto)"
   ]
  },
  {
   "cell_type": "code",
   "execution_count": null,
   "metadata": {},
   "outputs": [],
   "source": [
    "resta_op= array_aleatorio - array_aleatorio_2\n",
    "print(resta_op) \n",
    "#funcion numpy\n",
    "resta_numpy = np.subtract(array_aleatorio,array_aleatorio_2)\n",
    "print(resta_numpy)"
   ]
  },
  {
   "attachments": {},
   "cell_type": "markdown",
   "metadata": {},
   "source": [
    "6. Haz lo mismo con la multiplicación elemento por elemento. Usa un operador y\n",
    "después con una función de numpy\n",
    " (Pista: busca en google que función de numpy hace esto)"
   ]
  },
  {
   "cell_type": "code",
   "execution_count": null,
   "metadata": {},
   "outputs": [],
   "source": [
    "multi_op= array_aleatorio * array_aleatorio_2\n",
    "print(multi_op) \n",
    "#funcion numpy\n",
    "multi_numpy = np.multiply(array_aleatorio,array_aleatorio_2)\n",
    "print(multi_numpy)"
   ]
  },
  {
   "attachments": {},
   "cell_type": "markdown",
   "metadata": {},
   "source": [
    "7. Encuentra el valor más alto del primer array que has creado. "
   ]
  },
  {
   "cell_type": "code",
   "execution_count": null,
   "metadata": {},
   "outputs": [],
   "source": [
    "num_alto=np.max(array_aleatorio)\n",
    "print(num_alto)"
   ]
  },
  {
   "attachments": {},
   "cell_type": "markdown",
   "metadata": {},
   "source": [
    "8. Calcula la media (mean), la mediana (median) y al deviación estandar (standard\n",
    "deviation) de los arrays (Nota: No nos importa el significado matemático de estos\n",
    "valores, lo importante es que encuentres que función de numpy necesitas. Puedes\n",
    "hacer la búsqueda en castellano o en inglés, aunque en inglés muchas veces suele\n",
    "haber más resultados)."
   ]
  },
  {
   "cell_type": "code",
   "execution_count": null,
   "metadata": {},
   "outputs": [],
   "source": [
    "media= np.mean(array_aleatorio)\n",
    "print(media)\n",
    "mediana=np.median(array_aleatorio)\n",
    "print(mediana)"
   ]
  },
  {
   "attachments": {},
   "cell_type": "markdown",
   "metadata": {},
   "source": [
    "9. Crea un arrays lleno de 1s con una longitud dada por el usuario"
   ]
  },
  {
   "cell_type": "code",
   "execution_count": null,
   "metadata": {},
   "outputs": [],
   "source": [
    "import numpy as np\n",
    "x = int(input('De que longitud quieres crear tu matriz de 1s?'))\n",
    "array_unos = np.ones((x))\n",
    "print(array_unos)"
   ]
  },
  {
   "attachments": {},
   "cell_type": "markdown",
   "metadata": {},
   "source": [
    "10.Cambia la forma del array para que tenga una estructura de tipo (filas, columnas)"
   ]
  },
  {
   "cell_type": "code",
   "execution_count": null,
   "metadata": {},
   "outputs": [],
   "source": [
    "nuevo_array=array_unos.reshape(2,4)\n",
    "print(nuevo_array)"
   ]
  },
  {
   "attachments": {},
   "cell_type": "markdown",
   "metadata": {},
   "source": [
    "11.Crea una “matriz identidad” con la misma forma que el array anterior (filas, columnas)"
   ]
  },
  {
   "cell_type": "code",
   "execution_count": null,
   "metadata": {},
   "outputs": [],
   "source": [
    "ident_array=np.eye(2,4)\n",
    "print(ident_array)"
   ]
  },
  {
   "attachments": {},
   "cell_type": "markdown",
   "metadata": {},
   "source": [
    "12.Concatena ambas estructuras horizontalmente y verticalmente\n",
    " (Pista: Investiga el funcionamiento de concatenate() y de vstack() y hstack() de numpy)"
   ]
  },
  {
   "cell_type": "code",
   "execution_count": null,
   "metadata": {},
   "outputs": [],
   "source": [
    "horiz_array=np.concatenate(ident_array)\n",
    "print(horiz_array)\n",
    "ver1_array=np.vstack(ident_array)\n",
    "print(ver1_array)\n",
    "ver2_array=np.hstack(ident_array)\n",
    "print(ver2_array)"
   ]
  }
 ],
 "metadata": {
  "kernelspec": {
   "display_name": "work",
   "language": "python",
   "name": "python3"
  },
  "language_info": {
   "codemirror_mode": {
    "name": "ipython",
    "version": 3
   },
   "file_extension": ".py",
   "mimetype": "text/x-python",
   "name": "python",
   "nbconvert_exporter": "python",
   "pygments_lexer": "ipython3",
   "version": "3.11.4"
  },
  "orig_nbformat": 4
 },
 "nbformat": 4,
 "nbformat_minor": 2
}
