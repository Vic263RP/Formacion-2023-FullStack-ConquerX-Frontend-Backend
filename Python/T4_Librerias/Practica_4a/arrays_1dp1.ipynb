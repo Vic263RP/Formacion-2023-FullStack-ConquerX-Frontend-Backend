{
 "cells": [
  {
   "cell_type": "code",
   "execution_count": 20,
   "metadata": {},
   "outputs": [],
   "source": [
    "import numpy as np\n",
    "\n",
    "# Array 1d 8 elementos = 0\n",
    "array_1 = np.zeros(8)\n",
    "\n",
    "# Cambiar los elementos a 2\n",
    "array_1[:]= 2"
   ]
  },
  {
   "cell_type": "code",
   "execution_count": 21,
   "metadata": {},
   "outputs": [
    {
     "name": "stdout",
     "output_type": "stream",
     "text": [
      "[2. 2. 2. 2. 2. 2. 2. 2.]\n"
     ]
    }
   ],
   "source": [
    "print(array_1)"
   ]
  },
  {
   "cell_type": "code",
   "execution_count": 29,
   "metadata": {},
   "outputs": [],
   "source": [
    "import numpy as np\n",
    "# Array con número pares del 1 al 10\n",
    "array_2 = np.arange(2,11,2)\n",
    "\n",
    "# 4. Sumar números usando bucle y método\n",
    "suma_bucle = 0 \n",
    "\n",
    "for i in array_2:\n",
    "    suma_bucle = suma_bucle + i\n",
    "suma_np = np.sum(array_2)\n",
    "\n",
    "# 5. Revertir array 2 y guardarlo en una variable independiente\n",
    "    # El [:] es para que sean independientes\n",
    "array_2_revertido = array_2[::-1].copy()\n",
    "\n",
    "array_2_revertido[:] = 0\n",
    "\n"
   ]
  },
  {
   "cell_type": "code",
   "execution_count": 30,
   "metadata": {},
   "outputs": [
    {
     "name": "stdout",
     "output_type": "stream",
     "text": [
      "[ 2  4  6  8 10]\n",
      "Con el bucle el resultado es: 30\n",
      "Con el método el resultado es: 30\n",
      "[0 0 0 0 0]\n"
     ]
    }
   ],
   "source": [
    "print(array_2)\n",
    "print(f\"Con el bucle el resultado es: {suma_bucle}\")\n",
    "print(f\"Con el método el resultado es: {suma_np}\")\n",
    "print(array_2_revertido)"
   ]
  },
  {
   "cell_type": "code",
   "execution_count": 24,
   "metadata": {},
   "outputs": [],
   "source": [
    "# Elementos comunes entre array_1 y array_2\n",
    "\n",
    "array_intersect = np.intersect1d(array_1, array_2)\n",
    "array_intersect_2 = np.intersect1d(array_2_revertido, array_2)"
   ]
  },
  {
   "cell_type": "code",
   "execution_count": 25,
   "metadata": {},
   "outputs": [
    {
     "name": "stdout",
     "output_type": "stream",
     "text": [
      "[2.]\n",
      "[ 2  4  6  8 10]\n"
     ]
    }
   ],
   "source": [
    "print(array_intersect)\n",
    "print(array_intersect_2)"
   ]
  },
  {
   "cell_type": "code",
   "execution_count": 26,
   "metadata": {},
   "outputs": [
    {
     "name": "stdout",
     "output_type": "stream",
     "text": [
      "[1. 1. 1. 1. 1.]\n"
     ]
    }
   ],
   "source": [
    "long_a3 = int(input(\"Indica el la longitud de tu array\"))\n",
    "\n",
    "array_3 = np.ones(long_a3)\n",
    "print(array_3)"
   ]
  }
 ],
 "metadata": {
  "kernelspec": {
   "display_name": "work",
   "language": "python",
   "name": "python3"
  },
  "language_info": {
   "codemirror_mode": {
    "name": "ipython",
    "version": 3
   },
   "file_extension": ".py",
   "mimetype": "text/x-python",
   "name": "python",
   "nbconvert_exporter": "python",
   "pygments_lexer": "ipython3",
   "version": "3.11.4"
  },
  "orig_nbformat": 4
 },
 "nbformat": 4,
 "nbformat_minor": 2
}
