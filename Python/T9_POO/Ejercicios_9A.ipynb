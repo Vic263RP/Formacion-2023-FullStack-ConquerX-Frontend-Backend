{
 "cells": [
  {
   "cell_type": "markdown",
   "metadata": {},
   "source": [
    "#### CLASE PERSONA\n",
    "Define una clase Persona con atributos como nombre, edad y profesión. Luego, crea varios objetos de esta clase y muestra su información."
   ]
  },
  {
   "cell_type": "code",
   "execution_count": 11,
   "metadata": {},
   "outputs": [
    {
     "name": "stdout",
     "output_type": "stream",
     "text": [
      "Rafa 22 Ingeniero Mecánico\n"
     ]
    }
   ],
   "source": [
    "class Persona:\n",
    "    def __init__(self, nombre, edad, profesion):\n",
    "        self.name = nombre\n",
    "        self.age = edad\n",
    "        self.work = profesion\n",
    "\n",
    "rafema = Persona('Rafa', 22, 'Ingeniero Mecánico')\n",
    "\n",
    "print(rafema.name, rafema.age, rafema.work)"
   ]
  },
  {
   "cell_type": "markdown",
   "metadata": {},
   "source": [
    "#### CALCULADORA BÁSICA\n",
    "Crea una clase llamada “Calculadora” con métodos para sumar, restar, multiplicar y dividir. Crea objetos de esta clase y realiza algunas operaciones básicas."
   ]
  },
  {
   "cell_type": "code",
   "execution_count": 16,
   "metadata": {},
   "outputs": [],
   "source": [
    "class Calculadora:\n",
    "    def suma(self, a, b):\n",
    "        return a + b\n",
    "\n",
    "    def resta(self, a, b):\n",
    "        return a - b\n",
    "\n",
    "    def multiplicacion(self, a, b):\n",
    "        return a * b\n",
    "\n",
    "    def division(self, a, b):\n",
    "        return a / b"
   ]
  },
  {
   "cell_type": "code",
   "execution_count": 17,
   "metadata": {},
   "outputs": [
    {
     "name": "stdout",
     "output_type": "stream",
     "text": [
      "6\n",
      "2\n",
      "8\n",
      "2.0\n"
     ]
    }
   ],
   "source": [
    "lista = Calculadora()\n",
    "\n",
    "print(lista.suma(4,2))\n",
    "print(lista.resta(4,2))\n",
    "print(lista.multiplicacion(4,2))\n",
    "print(lista.division(4,2)) "
   ]
  },
  {
   "cell_type": "markdown",
   "metadata": {},
   "source": [
    "#### LIBRO\n",
    "Crea una clase “Libro” con atributos como título, autor y año de publicación. Luego, crea varios objetos Libro y muestra su información."
   ]
  },
  {
   "cell_type": "code",
   "execution_count": 19,
   "metadata": {},
   "outputs": [
    {
     "name": "stdout",
     "output_type": "stream",
     "text": [
      "Atomic Habits James Clear 2019\n"
     ]
    }
   ],
   "source": [
    "class Libro:\n",
    "    def __init__(self, titulo, autor, publicacion):\n",
    "        self.titulo = titulo\n",
    "        self.autor = autor\n",
    "        self.publicacion = publicacion\n",
    "\n",
    "libro1 = Libro('Atomic Habits', 'James Clear', 2019)\n",
    "\n",
    "print(libro1.titulo, libro1.autor, libro1.publicacion)"
   ]
  },
  {
   "cell_type": "markdown",
   "metadata": {},
   "source": [
    "#### RECTÁNGULO\n",
    "Crea una clase “Rectangulo” con atributos de longitud y ancho. Implementa un método para calcular el área y el perímetro del rectángulo."
   ]
  },
  {
   "cell_type": "code",
   "execution_count": 21,
   "metadata": {},
   "outputs": [
    {
     "name": "stdout",
     "output_type": "stream",
     "text": [
      "Area: 15 \n",
      " Perímetro: 16\n"
     ]
    }
   ],
   "source": [
    "class Rectangulo:\n",
    "    def __init__(self, ancho, largo):\n",
    "        self.ancho = ancho\n",
    "        self.largo = largo \n",
    "    \n",
    "    def perimetro(self):\n",
    "        return (2*self.ancho + 2*self.largo)\n",
    "    \n",
    "    def area(self):\n",
    "        return (self.ancho * self.largo)\n",
    "    \n",
    "\n",
    "rect1 = Rectangulo(5, 3)\n",
    "\n",
    "print(f\"Area: {rect1.area()} \\n Perímetro: {rect1.perimetro()}\")"
   ]
  },
  {
   "cell_type": "markdown",
   "metadata": {},
   "source": [
    "#### DADO\n",
    "Crea una clase “Dado” que simule el lanzamiento de un dado de 6 caras. Implementa un método para lanzar el dado y mostrar el resultado (quizás te convenga usar el modulo random)."
   ]
  },
  {
   "cell_type": "code",
   "execution_count": 30,
   "metadata": {},
   "outputs": [
    {
     "name": "stdout",
     "output_type": "stream",
     "text": [
      "3\n"
     ]
    }
   ],
   "source": [
    "import numpy as np\n",
    "\n",
    "class Dado:\n",
    "    def lanzar(self):\n",
    "        return np.random.randint(1, 7)\n",
    "    \n",
    "dado1 = Dado()\n",
    "\n",
    "print(dado1.lanzar())"
   ]
  },
  {
   "cell_type": "markdown",
   "metadata": {},
   "source": [
    "#### COCHE\n",
    "Crea una clase “Coche” con atributos como marca, modelo y año. Implementa un método para encender el coche y otro para apagarlo (puedes simulae el encendido y apagado con una variable booleana)."
   ]
  },
  {
   "cell_type": "code",
   "execution_count": 31,
   "metadata": {},
   "outputs": [
    {
     "name": "stdout",
     "output_type": "stream",
     "text": [
      "False\n",
      "El coche se ha encendido True\n",
      "El coche se ha apagado False\n"
     ]
    }
   ],
   "source": [
    "class Coche:\n",
    "    def __init__(self, marca, modelo, ano):\n",
    "        self.marca = marca\n",
    "        self.modelo = modelo\n",
    "        self.ano = ano\n",
    "        self.encendido = False\n",
    "\n",
    "    def encender(self):\n",
    "        self.encendido = True\n",
    "        return 'El coche se ha encendido'\n",
    "\n",
    "    def apagar(self):\n",
    "        self.encendido = False\n",
    "        return 'El coche se ha apagado'\n",
    "    \n",
    "coche1 = Coche('Seat', '850', 1979)\n",
    "\n",
    "print(coche1.encendido)\n",
    "print(coche1.encender(), coche1.encendido)\n",
    "print(coche1.apagar(), coche1.encendido)\n"
   ]
  },
  {
   "cell_type": "code",
   "execution_count": null,
   "metadata": {},
   "outputs": [],
   "source": []
  }
 ],
 "metadata": {
  "kernelspec": {
   "display_name": "work",
   "language": "python",
   "name": "python3"
  },
  "language_info": {
   "codemirror_mode": {
    "name": "ipython",
    "version": 3
   },
   "file_extension": ".py",
   "mimetype": "text/x-python",
   "name": "python",
   "nbconvert_exporter": "python",
   "pygments_lexer": "ipython3",
   "version": "3.11.4"
  }
 },
 "nbformat": 4,
 "nbformat_minor": 2
}
